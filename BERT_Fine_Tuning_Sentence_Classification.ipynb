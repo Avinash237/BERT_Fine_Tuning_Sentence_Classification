{
  "nbformat": 4,
  "nbformat_minor": 0,
  "metadata": {
    "colab": {
      "provenance": [],
      "gpuType": "T4"
    },
    "kernelspec": {
      "name": "python3",
      "display_name": "Python 3"
    },
    "language_info": {
      "name": "python"
    },
    "accelerator": "GPU",
    "widgets": {
      "application/vnd.jupyter.widget-state+json": {
        "893a2fb6c7c74364a49b93355a69665b": {
          "model_module": "@jupyter-widgets/controls",
          "model_name": "HBoxModel",
          "model_module_version": "1.5.0",
          "state": {
            "_dom_classes": [],
            "_model_module": "@jupyter-widgets/controls",
            "_model_module_version": "1.5.0",
            "_model_name": "HBoxModel",
            "_view_count": null,
            "_view_module": "@jupyter-widgets/controls",
            "_view_module_version": "1.5.0",
            "_view_name": "HBoxView",
            "box_style": "",
            "children": [
              "IPY_MODEL_899abbecc6b84b9ba77ed7baa7a78872",
              "IPY_MODEL_f2e0df4238524f21b04ff4f6d555fa79",
              "IPY_MODEL_bd5c5052f52f46d9bf8107cafaa0ae43"
            ],
            "layout": "IPY_MODEL_175a5ec55eef4158acb6c6943494e49a"
          }
        },
        "899abbecc6b84b9ba77ed7baa7a78872": {
          "model_module": "@jupyter-widgets/controls",
          "model_name": "HTMLModel",
          "model_module_version": "1.5.0",
          "state": {
            "_dom_classes": [],
            "_model_module": "@jupyter-widgets/controls",
            "_model_module_version": "1.5.0",
            "_model_name": "HTMLModel",
            "_view_count": null,
            "_view_module": "@jupyter-widgets/controls",
            "_view_module_version": "1.5.0",
            "_view_name": "HTMLView",
            "description": "",
            "description_tooltip": null,
            "layout": "IPY_MODEL_9385422ee5674b9d8a936462a7e94ae2",
            "placeholder": "​",
            "style": "IPY_MODEL_5b6c5f21e4e14aff9d6e671f8e160ad1",
            "value": "tokenizer_config.json: 100%"
          }
        },
        "f2e0df4238524f21b04ff4f6d555fa79": {
          "model_module": "@jupyter-widgets/controls",
          "model_name": "FloatProgressModel",
          "model_module_version": "1.5.0",
          "state": {
            "_dom_classes": [],
            "_model_module": "@jupyter-widgets/controls",
            "_model_module_version": "1.5.0",
            "_model_name": "FloatProgressModel",
            "_view_count": null,
            "_view_module": "@jupyter-widgets/controls",
            "_view_module_version": "1.5.0",
            "_view_name": "ProgressView",
            "bar_style": "success",
            "description": "",
            "description_tooltip": null,
            "layout": "IPY_MODEL_596ddbc9bbe648438266764162782eeb",
            "max": 48,
            "min": 0,
            "orientation": "horizontal",
            "style": "IPY_MODEL_4751ba0470274342b372cb48bdd8286f",
            "value": 48
          }
        },
        "bd5c5052f52f46d9bf8107cafaa0ae43": {
          "model_module": "@jupyter-widgets/controls",
          "model_name": "HTMLModel",
          "model_module_version": "1.5.0",
          "state": {
            "_dom_classes": [],
            "_model_module": "@jupyter-widgets/controls",
            "_model_module_version": "1.5.0",
            "_model_name": "HTMLModel",
            "_view_count": null,
            "_view_module": "@jupyter-widgets/controls",
            "_view_module_version": "1.5.0",
            "_view_name": "HTMLView",
            "description": "",
            "description_tooltip": null,
            "layout": "IPY_MODEL_a8e67009ba6c4facbb31f40b4af97b5f",
            "placeholder": "​",
            "style": "IPY_MODEL_78bc2d40dfe74df6b53f5e4bf0cda659",
            "value": " 48.0/48.0 [00:00&lt;00:00, 3.29kB/s]"
          }
        },
        "175a5ec55eef4158acb6c6943494e49a": {
          "model_module": "@jupyter-widgets/base",
          "model_name": "LayoutModel",
          "model_module_version": "1.2.0",
          "state": {
            "_model_module": "@jupyter-widgets/base",
            "_model_module_version": "1.2.0",
            "_model_name": "LayoutModel",
            "_view_count": null,
            "_view_module": "@jupyter-widgets/base",
            "_view_module_version": "1.2.0",
            "_view_name": "LayoutView",
            "align_content": null,
            "align_items": null,
            "align_self": null,
            "border": null,
            "bottom": null,
            "display": null,
            "flex": null,
            "flex_flow": null,
            "grid_area": null,
            "grid_auto_columns": null,
            "grid_auto_flow": null,
            "grid_auto_rows": null,
            "grid_column": null,
            "grid_gap": null,
            "grid_row": null,
            "grid_template_areas": null,
            "grid_template_columns": null,
            "grid_template_rows": null,
            "height": null,
            "justify_content": null,
            "justify_items": null,
            "left": null,
            "margin": null,
            "max_height": null,
            "max_width": null,
            "min_height": null,
            "min_width": null,
            "object_fit": null,
            "object_position": null,
            "order": null,
            "overflow": null,
            "overflow_x": null,
            "overflow_y": null,
            "padding": null,
            "right": null,
            "top": null,
            "visibility": null,
            "width": null
          }
        },
        "9385422ee5674b9d8a936462a7e94ae2": {
          "model_module": "@jupyter-widgets/base",
          "model_name": "LayoutModel",
          "model_module_version": "1.2.0",
          "state": {
            "_model_module": "@jupyter-widgets/base",
            "_model_module_version": "1.2.0",
            "_model_name": "LayoutModel",
            "_view_count": null,
            "_view_module": "@jupyter-widgets/base",
            "_view_module_version": "1.2.0",
            "_view_name": "LayoutView",
            "align_content": null,
            "align_items": null,
            "align_self": null,
            "border": null,
            "bottom": null,
            "display": null,
            "flex": null,
            "flex_flow": null,
            "grid_area": null,
            "grid_auto_columns": null,
            "grid_auto_flow": null,
            "grid_auto_rows": null,
            "grid_column": null,
            "grid_gap": null,
            "grid_row": null,
            "grid_template_areas": null,
            "grid_template_columns": null,
            "grid_template_rows": null,
            "height": null,
            "justify_content": null,
            "justify_items": null,
            "left": null,
            "margin": null,
            "max_height": null,
            "max_width": null,
            "min_height": null,
            "min_width": null,
            "object_fit": null,
            "object_position": null,
            "order": null,
            "overflow": null,
            "overflow_x": null,
            "overflow_y": null,
            "padding": null,
            "right": null,
            "top": null,
            "visibility": null,
            "width": null
          }
        },
        "5b6c5f21e4e14aff9d6e671f8e160ad1": {
          "model_module": "@jupyter-widgets/controls",
          "model_name": "DescriptionStyleModel",
          "model_module_version": "1.5.0",
          "state": {
            "_model_module": "@jupyter-widgets/controls",
            "_model_module_version": "1.5.0",
            "_model_name": "DescriptionStyleModel",
            "_view_count": null,
            "_view_module": "@jupyter-widgets/base",
            "_view_module_version": "1.2.0",
            "_view_name": "StyleView",
            "description_width": ""
          }
        },
        "596ddbc9bbe648438266764162782eeb": {
          "model_module": "@jupyter-widgets/base",
          "model_name": "LayoutModel",
          "model_module_version": "1.2.0",
          "state": {
            "_model_module": "@jupyter-widgets/base",
            "_model_module_version": "1.2.0",
            "_model_name": "LayoutModel",
            "_view_count": null,
            "_view_module": "@jupyter-widgets/base",
            "_view_module_version": "1.2.0",
            "_view_name": "LayoutView",
            "align_content": null,
            "align_items": null,
            "align_self": null,
            "border": null,
            "bottom": null,
            "display": null,
            "flex": null,
            "flex_flow": null,
            "grid_area": null,
            "grid_auto_columns": null,
            "grid_auto_flow": null,
            "grid_auto_rows": null,
            "grid_column": null,
            "grid_gap": null,
            "grid_row": null,
            "grid_template_areas": null,
            "grid_template_columns": null,
            "grid_template_rows": null,
            "height": null,
            "justify_content": null,
            "justify_items": null,
            "left": null,
            "margin": null,
            "max_height": null,
            "max_width": null,
            "min_height": null,
            "min_width": null,
            "object_fit": null,
            "object_position": null,
            "order": null,
            "overflow": null,
            "overflow_x": null,
            "overflow_y": null,
            "padding": null,
            "right": null,
            "top": null,
            "visibility": null,
            "width": null
          }
        },
        "4751ba0470274342b372cb48bdd8286f": {
          "model_module": "@jupyter-widgets/controls",
          "model_name": "ProgressStyleModel",
          "model_module_version": "1.5.0",
          "state": {
            "_model_module": "@jupyter-widgets/controls",
            "_model_module_version": "1.5.0",
            "_model_name": "ProgressStyleModel",
            "_view_count": null,
            "_view_module": "@jupyter-widgets/base",
            "_view_module_version": "1.2.0",
            "_view_name": "StyleView",
            "bar_color": null,
            "description_width": ""
          }
        },
        "a8e67009ba6c4facbb31f40b4af97b5f": {
          "model_module": "@jupyter-widgets/base",
          "model_name": "LayoutModel",
          "model_module_version": "1.2.0",
          "state": {
            "_model_module": "@jupyter-widgets/base",
            "_model_module_version": "1.2.0",
            "_model_name": "LayoutModel",
            "_view_count": null,
            "_view_module": "@jupyter-widgets/base",
            "_view_module_version": "1.2.0",
            "_view_name": "LayoutView",
            "align_content": null,
            "align_items": null,
            "align_self": null,
            "border": null,
            "bottom": null,
            "display": null,
            "flex": null,
            "flex_flow": null,
            "grid_area": null,
            "grid_auto_columns": null,
            "grid_auto_flow": null,
            "grid_auto_rows": null,
            "grid_column": null,
            "grid_gap": null,
            "grid_row": null,
            "grid_template_areas": null,
            "grid_template_columns": null,
            "grid_template_rows": null,
            "height": null,
            "justify_content": null,
            "justify_items": null,
            "left": null,
            "margin": null,
            "max_height": null,
            "max_width": null,
            "min_height": null,
            "min_width": null,
            "object_fit": null,
            "object_position": null,
            "order": null,
            "overflow": null,
            "overflow_x": null,
            "overflow_y": null,
            "padding": null,
            "right": null,
            "top": null,
            "visibility": null,
            "width": null
          }
        },
        "78bc2d40dfe74df6b53f5e4bf0cda659": {
          "model_module": "@jupyter-widgets/controls",
          "model_name": "DescriptionStyleModel",
          "model_module_version": "1.5.0",
          "state": {
            "_model_module": "@jupyter-widgets/controls",
            "_model_module_version": "1.5.0",
            "_model_name": "DescriptionStyleModel",
            "_view_count": null,
            "_view_module": "@jupyter-widgets/base",
            "_view_module_version": "1.2.0",
            "_view_name": "StyleView",
            "description_width": ""
          }
        },
        "d1018bea41cc4884874d9033bfd328d8": {
          "model_module": "@jupyter-widgets/controls",
          "model_name": "HBoxModel",
          "model_module_version": "1.5.0",
          "state": {
            "_dom_classes": [],
            "_model_module": "@jupyter-widgets/controls",
            "_model_module_version": "1.5.0",
            "_model_name": "HBoxModel",
            "_view_count": null,
            "_view_module": "@jupyter-widgets/controls",
            "_view_module_version": "1.5.0",
            "_view_name": "HBoxView",
            "box_style": "",
            "children": [
              "IPY_MODEL_f0f32a0c9f8145f193875684886da046",
              "IPY_MODEL_c2c7844f72104f23b5b224ea562cfdcd",
              "IPY_MODEL_923c365d08134853bf3959eee4aa85c8"
            ],
            "layout": "IPY_MODEL_b152f97df78a415ba373171d8b1899ff"
          }
        },
        "f0f32a0c9f8145f193875684886da046": {
          "model_module": "@jupyter-widgets/controls",
          "model_name": "HTMLModel",
          "model_module_version": "1.5.0",
          "state": {
            "_dom_classes": [],
            "_model_module": "@jupyter-widgets/controls",
            "_model_module_version": "1.5.0",
            "_model_name": "HTMLModel",
            "_view_count": null,
            "_view_module": "@jupyter-widgets/controls",
            "_view_module_version": "1.5.0",
            "_view_name": "HTMLView",
            "description": "",
            "description_tooltip": null,
            "layout": "IPY_MODEL_381f90a5964d4bf0892f3b64d636d576",
            "placeholder": "​",
            "style": "IPY_MODEL_4e16a3139af741828898068db3baed93",
            "value": "vocab.txt: 100%"
          }
        },
        "c2c7844f72104f23b5b224ea562cfdcd": {
          "model_module": "@jupyter-widgets/controls",
          "model_name": "FloatProgressModel",
          "model_module_version": "1.5.0",
          "state": {
            "_dom_classes": [],
            "_model_module": "@jupyter-widgets/controls",
            "_model_module_version": "1.5.0",
            "_model_name": "FloatProgressModel",
            "_view_count": null,
            "_view_module": "@jupyter-widgets/controls",
            "_view_module_version": "1.5.0",
            "_view_name": "ProgressView",
            "bar_style": "success",
            "description": "",
            "description_tooltip": null,
            "layout": "IPY_MODEL_9179695ea10b44c2b4aec0d4b80446ac",
            "max": 231508,
            "min": 0,
            "orientation": "horizontal",
            "style": "IPY_MODEL_f6f99173d8334baaadb6f7955acde59e",
            "value": 231508
          }
        },
        "923c365d08134853bf3959eee4aa85c8": {
          "model_module": "@jupyter-widgets/controls",
          "model_name": "HTMLModel",
          "model_module_version": "1.5.0",
          "state": {
            "_dom_classes": [],
            "_model_module": "@jupyter-widgets/controls",
            "_model_module_version": "1.5.0",
            "_model_name": "HTMLModel",
            "_view_count": null,
            "_view_module": "@jupyter-widgets/controls",
            "_view_module_version": "1.5.0",
            "_view_name": "HTMLView",
            "description": "",
            "description_tooltip": null,
            "layout": "IPY_MODEL_126c33cf4ed34fddb07805b003ac0fce",
            "placeholder": "​",
            "style": "IPY_MODEL_27abdf2fb2d94b9ca3ec0090866ab462",
            "value": " 232k/232k [00:00&lt;00:00, 1.41MB/s]"
          }
        },
        "b152f97df78a415ba373171d8b1899ff": {
          "model_module": "@jupyter-widgets/base",
          "model_name": "LayoutModel",
          "model_module_version": "1.2.0",
          "state": {
            "_model_module": "@jupyter-widgets/base",
            "_model_module_version": "1.2.0",
            "_model_name": "LayoutModel",
            "_view_count": null,
            "_view_module": "@jupyter-widgets/base",
            "_view_module_version": "1.2.0",
            "_view_name": "LayoutView",
            "align_content": null,
            "align_items": null,
            "align_self": null,
            "border": null,
            "bottom": null,
            "display": null,
            "flex": null,
            "flex_flow": null,
            "grid_area": null,
            "grid_auto_columns": null,
            "grid_auto_flow": null,
            "grid_auto_rows": null,
            "grid_column": null,
            "grid_gap": null,
            "grid_row": null,
            "grid_template_areas": null,
            "grid_template_columns": null,
            "grid_template_rows": null,
            "height": null,
            "justify_content": null,
            "justify_items": null,
            "left": null,
            "margin": null,
            "max_height": null,
            "max_width": null,
            "min_height": null,
            "min_width": null,
            "object_fit": null,
            "object_position": null,
            "order": null,
            "overflow": null,
            "overflow_x": null,
            "overflow_y": null,
            "padding": null,
            "right": null,
            "top": null,
            "visibility": null,
            "width": null
          }
        },
        "381f90a5964d4bf0892f3b64d636d576": {
          "model_module": "@jupyter-widgets/base",
          "model_name": "LayoutModel",
          "model_module_version": "1.2.0",
          "state": {
            "_model_module": "@jupyter-widgets/base",
            "_model_module_version": "1.2.0",
            "_model_name": "LayoutModel",
            "_view_count": null,
            "_view_module": "@jupyter-widgets/base",
            "_view_module_version": "1.2.0",
            "_view_name": "LayoutView",
            "align_content": null,
            "align_items": null,
            "align_self": null,
            "border": null,
            "bottom": null,
            "display": null,
            "flex": null,
            "flex_flow": null,
            "grid_area": null,
            "grid_auto_columns": null,
            "grid_auto_flow": null,
            "grid_auto_rows": null,
            "grid_column": null,
            "grid_gap": null,
            "grid_row": null,
            "grid_template_areas": null,
            "grid_template_columns": null,
            "grid_template_rows": null,
            "height": null,
            "justify_content": null,
            "justify_items": null,
            "left": null,
            "margin": null,
            "max_height": null,
            "max_width": null,
            "min_height": null,
            "min_width": null,
            "object_fit": null,
            "object_position": null,
            "order": null,
            "overflow": null,
            "overflow_x": null,
            "overflow_y": null,
            "padding": null,
            "right": null,
            "top": null,
            "visibility": null,
            "width": null
          }
        },
        "4e16a3139af741828898068db3baed93": {
          "model_module": "@jupyter-widgets/controls",
          "model_name": "DescriptionStyleModel",
          "model_module_version": "1.5.0",
          "state": {
            "_model_module": "@jupyter-widgets/controls",
            "_model_module_version": "1.5.0",
            "_model_name": "DescriptionStyleModel",
            "_view_count": null,
            "_view_module": "@jupyter-widgets/base",
            "_view_module_version": "1.2.0",
            "_view_name": "StyleView",
            "description_width": ""
          }
        },
        "9179695ea10b44c2b4aec0d4b80446ac": {
          "model_module": "@jupyter-widgets/base",
          "model_name": "LayoutModel",
          "model_module_version": "1.2.0",
          "state": {
            "_model_module": "@jupyter-widgets/base",
            "_model_module_version": "1.2.0",
            "_model_name": "LayoutModel",
            "_view_count": null,
            "_view_module": "@jupyter-widgets/base",
            "_view_module_version": "1.2.0",
            "_view_name": "LayoutView",
            "align_content": null,
            "align_items": null,
            "align_self": null,
            "border": null,
            "bottom": null,
            "display": null,
            "flex": null,
            "flex_flow": null,
            "grid_area": null,
            "grid_auto_columns": null,
            "grid_auto_flow": null,
            "grid_auto_rows": null,
            "grid_column": null,
            "grid_gap": null,
            "grid_row": null,
            "grid_template_areas": null,
            "grid_template_columns": null,
            "grid_template_rows": null,
            "height": null,
            "justify_content": null,
            "justify_items": null,
            "left": null,
            "margin": null,
            "max_height": null,
            "max_width": null,
            "min_height": null,
            "min_width": null,
            "object_fit": null,
            "object_position": null,
            "order": null,
            "overflow": null,
            "overflow_x": null,
            "overflow_y": null,
            "padding": null,
            "right": null,
            "top": null,
            "visibility": null,
            "width": null
          }
        },
        "f6f99173d8334baaadb6f7955acde59e": {
          "model_module": "@jupyter-widgets/controls",
          "model_name": "ProgressStyleModel",
          "model_module_version": "1.5.0",
          "state": {
            "_model_module": "@jupyter-widgets/controls",
            "_model_module_version": "1.5.0",
            "_model_name": "ProgressStyleModel",
            "_view_count": null,
            "_view_module": "@jupyter-widgets/base",
            "_view_module_version": "1.2.0",
            "_view_name": "StyleView",
            "bar_color": null,
            "description_width": ""
          }
        },
        "126c33cf4ed34fddb07805b003ac0fce": {
          "model_module": "@jupyter-widgets/base",
          "model_name": "LayoutModel",
          "model_module_version": "1.2.0",
          "state": {
            "_model_module": "@jupyter-widgets/base",
            "_model_module_version": "1.2.0",
            "_model_name": "LayoutModel",
            "_view_count": null,
            "_view_module": "@jupyter-widgets/base",
            "_view_module_version": "1.2.0",
            "_view_name": "LayoutView",
            "align_content": null,
            "align_items": null,
            "align_self": null,
            "border": null,
            "bottom": null,
            "display": null,
            "flex": null,
            "flex_flow": null,
            "grid_area": null,
            "grid_auto_columns": null,
            "grid_auto_flow": null,
            "grid_auto_rows": null,
            "grid_column": null,
            "grid_gap": null,
            "grid_row": null,
            "grid_template_areas": null,
            "grid_template_columns": null,
            "grid_template_rows": null,
            "height": null,
            "justify_content": null,
            "justify_items": null,
            "left": null,
            "margin": null,
            "max_height": null,
            "max_width": null,
            "min_height": null,
            "min_width": null,
            "object_fit": null,
            "object_position": null,
            "order": null,
            "overflow": null,
            "overflow_x": null,
            "overflow_y": null,
            "padding": null,
            "right": null,
            "top": null,
            "visibility": null,
            "width": null
          }
        },
        "27abdf2fb2d94b9ca3ec0090866ab462": {
          "model_module": "@jupyter-widgets/controls",
          "model_name": "DescriptionStyleModel",
          "model_module_version": "1.5.0",
          "state": {
            "_model_module": "@jupyter-widgets/controls",
            "_model_module_version": "1.5.0",
            "_model_name": "DescriptionStyleModel",
            "_view_count": null,
            "_view_module": "@jupyter-widgets/base",
            "_view_module_version": "1.2.0",
            "_view_name": "StyleView",
            "description_width": ""
          }
        },
        "bbb229d753674d548c375ce8e63c5da9": {
          "model_module": "@jupyter-widgets/controls",
          "model_name": "HBoxModel",
          "model_module_version": "1.5.0",
          "state": {
            "_dom_classes": [],
            "_model_module": "@jupyter-widgets/controls",
            "_model_module_version": "1.5.0",
            "_model_name": "HBoxModel",
            "_view_count": null,
            "_view_module": "@jupyter-widgets/controls",
            "_view_module_version": "1.5.0",
            "_view_name": "HBoxView",
            "box_style": "",
            "children": [
              "IPY_MODEL_90162d6e231046c4bd77465ee26b0269",
              "IPY_MODEL_97f4327006bc4fa8b0d483145045b8bc",
              "IPY_MODEL_c276e425f39846d4b56c1d9461a7ddb2"
            ],
            "layout": "IPY_MODEL_6efea7766d264bc49924ae8ba1b86f98"
          }
        },
        "90162d6e231046c4bd77465ee26b0269": {
          "model_module": "@jupyter-widgets/controls",
          "model_name": "HTMLModel",
          "model_module_version": "1.5.0",
          "state": {
            "_dom_classes": [],
            "_model_module": "@jupyter-widgets/controls",
            "_model_module_version": "1.5.0",
            "_model_name": "HTMLModel",
            "_view_count": null,
            "_view_module": "@jupyter-widgets/controls",
            "_view_module_version": "1.5.0",
            "_view_name": "HTMLView",
            "description": "",
            "description_tooltip": null,
            "layout": "IPY_MODEL_b3d630b2ce47485084048776b2b91a56",
            "placeholder": "​",
            "style": "IPY_MODEL_62aec89db4ef4540a42e29b7bfd4faff",
            "value": "tokenizer.json: 100%"
          }
        },
        "97f4327006bc4fa8b0d483145045b8bc": {
          "model_module": "@jupyter-widgets/controls",
          "model_name": "FloatProgressModel",
          "model_module_version": "1.5.0",
          "state": {
            "_dom_classes": [],
            "_model_module": "@jupyter-widgets/controls",
            "_model_module_version": "1.5.0",
            "_model_name": "FloatProgressModel",
            "_view_count": null,
            "_view_module": "@jupyter-widgets/controls",
            "_view_module_version": "1.5.0",
            "_view_name": "ProgressView",
            "bar_style": "success",
            "description": "",
            "description_tooltip": null,
            "layout": "IPY_MODEL_1a7ff20b386b4675bf3c0e0edf82a36f",
            "max": 466062,
            "min": 0,
            "orientation": "horizontal",
            "style": "IPY_MODEL_e665ad2fcb6a47298db503a5221af756",
            "value": 466062
          }
        },
        "c276e425f39846d4b56c1d9461a7ddb2": {
          "model_module": "@jupyter-widgets/controls",
          "model_name": "HTMLModel",
          "model_module_version": "1.5.0",
          "state": {
            "_dom_classes": [],
            "_model_module": "@jupyter-widgets/controls",
            "_model_module_version": "1.5.0",
            "_model_name": "HTMLModel",
            "_view_count": null,
            "_view_module": "@jupyter-widgets/controls",
            "_view_module_version": "1.5.0",
            "_view_name": "HTMLView",
            "description": "",
            "description_tooltip": null,
            "layout": "IPY_MODEL_f7121c6621504456b76ce74098ba4d19",
            "placeholder": "​",
            "style": "IPY_MODEL_827af48277714c0cb05c0294a56f6352",
            "value": " 466k/466k [00:00&lt;00:00, 5.57MB/s]"
          }
        },
        "6efea7766d264bc49924ae8ba1b86f98": {
          "model_module": "@jupyter-widgets/base",
          "model_name": "LayoutModel",
          "model_module_version": "1.2.0",
          "state": {
            "_model_module": "@jupyter-widgets/base",
            "_model_module_version": "1.2.0",
            "_model_name": "LayoutModel",
            "_view_count": null,
            "_view_module": "@jupyter-widgets/base",
            "_view_module_version": "1.2.0",
            "_view_name": "LayoutView",
            "align_content": null,
            "align_items": null,
            "align_self": null,
            "border": null,
            "bottom": null,
            "display": null,
            "flex": null,
            "flex_flow": null,
            "grid_area": null,
            "grid_auto_columns": null,
            "grid_auto_flow": null,
            "grid_auto_rows": null,
            "grid_column": null,
            "grid_gap": null,
            "grid_row": null,
            "grid_template_areas": null,
            "grid_template_columns": null,
            "grid_template_rows": null,
            "height": null,
            "justify_content": null,
            "justify_items": null,
            "left": null,
            "margin": null,
            "max_height": null,
            "max_width": null,
            "min_height": null,
            "min_width": null,
            "object_fit": null,
            "object_position": null,
            "order": null,
            "overflow": null,
            "overflow_x": null,
            "overflow_y": null,
            "padding": null,
            "right": null,
            "top": null,
            "visibility": null,
            "width": null
          }
        },
        "b3d630b2ce47485084048776b2b91a56": {
          "model_module": "@jupyter-widgets/base",
          "model_name": "LayoutModel",
          "model_module_version": "1.2.0",
          "state": {
            "_model_module": "@jupyter-widgets/base",
            "_model_module_version": "1.2.0",
            "_model_name": "LayoutModel",
            "_view_count": null,
            "_view_module": "@jupyter-widgets/base",
            "_view_module_version": "1.2.0",
            "_view_name": "LayoutView",
            "align_content": null,
            "align_items": null,
            "align_self": null,
            "border": null,
            "bottom": null,
            "display": null,
            "flex": null,
            "flex_flow": null,
            "grid_area": null,
            "grid_auto_columns": null,
            "grid_auto_flow": null,
            "grid_auto_rows": null,
            "grid_column": null,
            "grid_gap": null,
            "grid_row": null,
            "grid_template_areas": null,
            "grid_template_columns": null,
            "grid_template_rows": null,
            "height": null,
            "justify_content": null,
            "justify_items": null,
            "left": null,
            "margin": null,
            "max_height": null,
            "max_width": null,
            "min_height": null,
            "min_width": null,
            "object_fit": null,
            "object_position": null,
            "order": null,
            "overflow": null,
            "overflow_x": null,
            "overflow_y": null,
            "padding": null,
            "right": null,
            "top": null,
            "visibility": null,
            "width": null
          }
        },
        "62aec89db4ef4540a42e29b7bfd4faff": {
          "model_module": "@jupyter-widgets/controls",
          "model_name": "DescriptionStyleModel",
          "model_module_version": "1.5.0",
          "state": {
            "_model_module": "@jupyter-widgets/controls",
            "_model_module_version": "1.5.0",
            "_model_name": "DescriptionStyleModel",
            "_view_count": null,
            "_view_module": "@jupyter-widgets/base",
            "_view_module_version": "1.2.0",
            "_view_name": "StyleView",
            "description_width": ""
          }
        },
        "1a7ff20b386b4675bf3c0e0edf82a36f": {
          "model_module": "@jupyter-widgets/base",
          "model_name": "LayoutModel",
          "model_module_version": "1.2.0",
          "state": {
            "_model_module": "@jupyter-widgets/base",
            "_model_module_version": "1.2.0",
            "_model_name": "LayoutModel",
            "_view_count": null,
            "_view_module": "@jupyter-widgets/base",
            "_view_module_version": "1.2.0",
            "_view_name": "LayoutView",
            "align_content": null,
            "align_items": null,
            "align_self": null,
            "border": null,
            "bottom": null,
            "display": null,
            "flex": null,
            "flex_flow": null,
            "grid_area": null,
            "grid_auto_columns": null,
            "grid_auto_flow": null,
            "grid_auto_rows": null,
            "grid_column": null,
            "grid_gap": null,
            "grid_row": null,
            "grid_template_areas": null,
            "grid_template_columns": null,
            "grid_template_rows": null,
            "height": null,
            "justify_content": null,
            "justify_items": null,
            "left": null,
            "margin": null,
            "max_height": null,
            "max_width": null,
            "min_height": null,
            "min_width": null,
            "object_fit": null,
            "object_position": null,
            "order": null,
            "overflow": null,
            "overflow_x": null,
            "overflow_y": null,
            "padding": null,
            "right": null,
            "top": null,
            "visibility": null,
            "width": null
          }
        },
        "e665ad2fcb6a47298db503a5221af756": {
          "model_module": "@jupyter-widgets/controls",
          "model_name": "ProgressStyleModel",
          "model_module_version": "1.5.0",
          "state": {
            "_model_module": "@jupyter-widgets/controls",
            "_model_module_version": "1.5.0",
            "_model_name": "ProgressStyleModel",
            "_view_count": null,
            "_view_module": "@jupyter-widgets/base",
            "_view_module_version": "1.2.0",
            "_view_name": "StyleView",
            "bar_color": null,
            "description_width": ""
          }
        },
        "f7121c6621504456b76ce74098ba4d19": {
          "model_module": "@jupyter-widgets/base",
          "model_name": "LayoutModel",
          "model_module_version": "1.2.0",
          "state": {
            "_model_module": "@jupyter-widgets/base",
            "_model_module_version": "1.2.0",
            "_model_name": "LayoutModel",
            "_view_count": null,
            "_view_module": "@jupyter-widgets/base",
            "_view_module_version": "1.2.0",
            "_view_name": "LayoutView",
            "align_content": null,
            "align_items": null,
            "align_self": null,
            "border": null,
            "bottom": null,
            "display": null,
            "flex": null,
            "flex_flow": null,
            "grid_area": null,
            "grid_auto_columns": null,
            "grid_auto_flow": null,
            "grid_auto_rows": null,
            "grid_column": null,
            "grid_gap": null,
            "grid_row": null,
            "grid_template_areas": null,
            "grid_template_columns": null,
            "grid_template_rows": null,
            "height": null,
            "justify_content": null,
            "justify_items": null,
            "left": null,
            "margin": null,
            "max_height": null,
            "max_width": null,
            "min_height": null,
            "min_width": null,
            "object_fit": null,
            "object_position": null,
            "order": null,
            "overflow": null,
            "overflow_x": null,
            "overflow_y": null,
            "padding": null,
            "right": null,
            "top": null,
            "visibility": null,
            "width": null
          }
        },
        "827af48277714c0cb05c0294a56f6352": {
          "model_module": "@jupyter-widgets/controls",
          "model_name": "DescriptionStyleModel",
          "model_module_version": "1.5.0",
          "state": {
            "_model_module": "@jupyter-widgets/controls",
            "_model_module_version": "1.5.0",
            "_model_name": "DescriptionStyleModel",
            "_view_count": null,
            "_view_module": "@jupyter-widgets/base",
            "_view_module_version": "1.2.0",
            "_view_name": "StyleView",
            "description_width": ""
          }
        },
        "160b567f3eb2440ebe350b2fc31493ea": {
          "model_module": "@jupyter-widgets/controls",
          "model_name": "HBoxModel",
          "model_module_version": "1.5.0",
          "state": {
            "_dom_classes": [],
            "_model_module": "@jupyter-widgets/controls",
            "_model_module_version": "1.5.0",
            "_model_name": "HBoxModel",
            "_view_count": null,
            "_view_module": "@jupyter-widgets/controls",
            "_view_module_version": "1.5.0",
            "_view_name": "HBoxView",
            "box_style": "",
            "children": [
              "IPY_MODEL_4f2f2dacaafd46b7a60eb0c805290f0a",
              "IPY_MODEL_13676d4cc8424a39b6533615beb7e6cf",
              "IPY_MODEL_b090e9a10b944bb382591433a5807b5d"
            ],
            "layout": "IPY_MODEL_d144a706d151472a9d8977453314521b"
          }
        },
        "4f2f2dacaafd46b7a60eb0c805290f0a": {
          "model_module": "@jupyter-widgets/controls",
          "model_name": "HTMLModel",
          "model_module_version": "1.5.0",
          "state": {
            "_dom_classes": [],
            "_model_module": "@jupyter-widgets/controls",
            "_model_module_version": "1.5.0",
            "_model_name": "HTMLModel",
            "_view_count": null,
            "_view_module": "@jupyter-widgets/controls",
            "_view_module_version": "1.5.0",
            "_view_name": "HTMLView",
            "description": "",
            "description_tooltip": null,
            "layout": "IPY_MODEL_debd92de38164e33805968c5a4d0b089",
            "placeholder": "​",
            "style": "IPY_MODEL_7f9a196682cd4dc1a1c6ba0bf01f8176",
            "value": "config.json: 100%"
          }
        },
        "13676d4cc8424a39b6533615beb7e6cf": {
          "model_module": "@jupyter-widgets/controls",
          "model_name": "FloatProgressModel",
          "model_module_version": "1.5.0",
          "state": {
            "_dom_classes": [],
            "_model_module": "@jupyter-widgets/controls",
            "_model_module_version": "1.5.0",
            "_model_name": "FloatProgressModel",
            "_view_count": null,
            "_view_module": "@jupyter-widgets/controls",
            "_view_module_version": "1.5.0",
            "_view_name": "ProgressView",
            "bar_style": "success",
            "description": "",
            "description_tooltip": null,
            "layout": "IPY_MODEL_f960d0b125da4f09bea8c181329af994",
            "max": 570,
            "min": 0,
            "orientation": "horizontal",
            "style": "IPY_MODEL_0d11111f789a414bb0a5c6616d91c149",
            "value": 570
          }
        },
        "b090e9a10b944bb382591433a5807b5d": {
          "model_module": "@jupyter-widgets/controls",
          "model_name": "HTMLModel",
          "model_module_version": "1.5.0",
          "state": {
            "_dom_classes": [],
            "_model_module": "@jupyter-widgets/controls",
            "_model_module_version": "1.5.0",
            "_model_name": "HTMLModel",
            "_view_count": null,
            "_view_module": "@jupyter-widgets/controls",
            "_view_module_version": "1.5.0",
            "_view_name": "HTMLView",
            "description": "",
            "description_tooltip": null,
            "layout": "IPY_MODEL_a27cfe9aaf084004a73cdbe394de1ed5",
            "placeholder": "​",
            "style": "IPY_MODEL_b3c319ddab4b43f69c00142a4dc43f14",
            "value": " 570/570 [00:00&lt;00:00, 42.0kB/s]"
          }
        },
        "d144a706d151472a9d8977453314521b": {
          "model_module": "@jupyter-widgets/base",
          "model_name": "LayoutModel",
          "model_module_version": "1.2.0",
          "state": {
            "_model_module": "@jupyter-widgets/base",
            "_model_module_version": "1.2.0",
            "_model_name": "LayoutModel",
            "_view_count": null,
            "_view_module": "@jupyter-widgets/base",
            "_view_module_version": "1.2.0",
            "_view_name": "LayoutView",
            "align_content": null,
            "align_items": null,
            "align_self": null,
            "border": null,
            "bottom": null,
            "display": null,
            "flex": null,
            "flex_flow": null,
            "grid_area": null,
            "grid_auto_columns": null,
            "grid_auto_flow": null,
            "grid_auto_rows": null,
            "grid_column": null,
            "grid_gap": null,
            "grid_row": null,
            "grid_template_areas": null,
            "grid_template_columns": null,
            "grid_template_rows": null,
            "height": null,
            "justify_content": null,
            "justify_items": null,
            "left": null,
            "margin": null,
            "max_height": null,
            "max_width": null,
            "min_height": null,
            "min_width": null,
            "object_fit": null,
            "object_position": null,
            "order": null,
            "overflow": null,
            "overflow_x": null,
            "overflow_y": null,
            "padding": null,
            "right": null,
            "top": null,
            "visibility": null,
            "width": null
          }
        },
        "debd92de38164e33805968c5a4d0b089": {
          "model_module": "@jupyter-widgets/base",
          "model_name": "LayoutModel",
          "model_module_version": "1.2.0",
          "state": {
            "_model_module": "@jupyter-widgets/base",
            "_model_module_version": "1.2.0",
            "_model_name": "LayoutModel",
            "_view_count": null,
            "_view_module": "@jupyter-widgets/base",
            "_view_module_version": "1.2.0",
            "_view_name": "LayoutView",
            "align_content": null,
            "align_items": null,
            "align_self": null,
            "border": null,
            "bottom": null,
            "display": null,
            "flex": null,
            "flex_flow": null,
            "grid_area": null,
            "grid_auto_columns": null,
            "grid_auto_flow": null,
            "grid_auto_rows": null,
            "grid_column": null,
            "grid_gap": null,
            "grid_row": null,
            "grid_template_areas": null,
            "grid_template_columns": null,
            "grid_template_rows": null,
            "height": null,
            "justify_content": null,
            "justify_items": null,
            "left": null,
            "margin": null,
            "max_height": null,
            "max_width": null,
            "min_height": null,
            "min_width": null,
            "object_fit": null,
            "object_position": null,
            "order": null,
            "overflow": null,
            "overflow_x": null,
            "overflow_y": null,
            "padding": null,
            "right": null,
            "top": null,
            "visibility": null,
            "width": null
          }
        },
        "7f9a196682cd4dc1a1c6ba0bf01f8176": {
          "model_module": "@jupyter-widgets/controls",
          "model_name": "DescriptionStyleModel",
          "model_module_version": "1.5.0",
          "state": {
            "_model_module": "@jupyter-widgets/controls",
            "_model_module_version": "1.5.0",
            "_model_name": "DescriptionStyleModel",
            "_view_count": null,
            "_view_module": "@jupyter-widgets/base",
            "_view_module_version": "1.2.0",
            "_view_name": "StyleView",
            "description_width": ""
          }
        },
        "f960d0b125da4f09bea8c181329af994": {
          "model_module": "@jupyter-widgets/base",
          "model_name": "LayoutModel",
          "model_module_version": "1.2.0",
          "state": {
            "_model_module": "@jupyter-widgets/base",
            "_model_module_version": "1.2.0",
            "_model_name": "LayoutModel",
            "_view_count": null,
            "_view_module": "@jupyter-widgets/base",
            "_view_module_version": "1.2.0",
            "_view_name": "LayoutView",
            "align_content": null,
            "align_items": null,
            "align_self": null,
            "border": null,
            "bottom": null,
            "display": null,
            "flex": null,
            "flex_flow": null,
            "grid_area": null,
            "grid_auto_columns": null,
            "grid_auto_flow": null,
            "grid_auto_rows": null,
            "grid_column": null,
            "grid_gap": null,
            "grid_row": null,
            "grid_template_areas": null,
            "grid_template_columns": null,
            "grid_template_rows": null,
            "height": null,
            "justify_content": null,
            "justify_items": null,
            "left": null,
            "margin": null,
            "max_height": null,
            "max_width": null,
            "min_height": null,
            "min_width": null,
            "object_fit": null,
            "object_position": null,
            "order": null,
            "overflow": null,
            "overflow_x": null,
            "overflow_y": null,
            "padding": null,
            "right": null,
            "top": null,
            "visibility": null,
            "width": null
          }
        },
        "0d11111f789a414bb0a5c6616d91c149": {
          "model_module": "@jupyter-widgets/controls",
          "model_name": "ProgressStyleModel",
          "model_module_version": "1.5.0",
          "state": {
            "_model_module": "@jupyter-widgets/controls",
            "_model_module_version": "1.5.0",
            "_model_name": "ProgressStyleModel",
            "_view_count": null,
            "_view_module": "@jupyter-widgets/base",
            "_view_module_version": "1.2.0",
            "_view_name": "StyleView",
            "bar_color": null,
            "description_width": ""
          }
        },
        "a27cfe9aaf084004a73cdbe394de1ed5": {
          "model_module": "@jupyter-widgets/base",
          "model_name": "LayoutModel",
          "model_module_version": "1.2.0",
          "state": {
            "_model_module": "@jupyter-widgets/base",
            "_model_module_version": "1.2.0",
            "_model_name": "LayoutModel",
            "_view_count": null,
            "_view_module": "@jupyter-widgets/base",
            "_view_module_version": "1.2.0",
            "_view_name": "LayoutView",
            "align_content": null,
            "align_items": null,
            "align_self": null,
            "border": null,
            "bottom": null,
            "display": null,
            "flex": null,
            "flex_flow": null,
            "grid_area": null,
            "grid_auto_columns": null,
            "grid_auto_flow": null,
            "grid_auto_rows": null,
            "grid_column": null,
            "grid_gap": null,
            "grid_row": null,
            "grid_template_areas": null,
            "grid_template_columns": null,
            "grid_template_rows": null,
            "height": null,
            "justify_content": null,
            "justify_items": null,
            "left": null,
            "margin": null,
            "max_height": null,
            "max_width": null,
            "min_height": null,
            "min_width": null,
            "object_fit": null,
            "object_position": null,
            "order": null,
            "overflow": null,
            "overflow_x": null,
            "overflow_y": null,
            "padding": null,
            "right": null,
            "top": null,
            "visibility": null,
            "width": null
          }
        },
        "b3c319ddab4b43f69c00142a4dc43f14": {
          "model_module": "@jupyter-widgets/controls",
          "model_name": "DescriptionStyleModel",
          "model_module_version": "1.5.0",
          "state": {
            "_model_module": "@jupyter-widgets/controls",
            "_model_module_version": "1.5.0",
            "_model_name": "DescriptionStyleModel",
            "_view_count": null,
            "_view_module": "@jupyter-widgets/base",
            "_view_module_version": "1.2.0",
            "_view_name": "StyleView",
            "description_width": ""
          }
        },
        "5b68ca9045a249d497fb6f092c8750f4": {
          "model_module": "@jupyter-widgets/controls",
          "model_name": "HBoxModel",
          "model_module_version": "1.5.0",
          "state": {
            "_dom_classes": [],
            "_model_module": "@jupyter-widgets/controls",
            "_model_module_version": "1.5.0",
            "_model_name": "HBoxModel",
            "_view_count": null,
            "_view_module": "@jupyter-widgets/controls",
            "_view_module_version": "1.5.0",
            "_view_name": "HBoxView",
            "box_style": "",
            "children": [
              "IPY_MODEL_56c04b3e701f420eaa44381fba2ab9d9",
              "IPY_MODEL_c92b042d858d4ea5aa5a72975c643a1b",
              "IPY_MODEL_f7c89281201f426683119a8e0ffc225c"
            ],
            "layout": "IPY_MODEL_7ee9e5940fb849cc9a8a1aacc0af9617"
          }
        },
        "56c04b3e701f420eaa44381fba2ab9d9": {
          "model_module": "@jupyter-widgets/controls",
          "model_name": "HTMLModel",
          "model_module_version": "1.5.0",
          "state": {
            "_dom_classes": [],
            "_model_module": "@jupyter-widgets/controls",
            "_model_module_version": "1.5.0",
            "_model_name": "HTMLModel",
            "_view_count": null,
            "_view_module": "@jupyter-widgets/controls",
            "_view_module_version": "1.5.0",
            "_view_name": "HTMLView",
            "description": "",
            "description_tooltip": null,
            "layout": "IPY_MODEL_fa5a3d8b8ce94fca9b9f95350fba85cd",
            "placeholder": "​",
            "style": "IPY_MODEL_c56d20264a834101aca5b8ef4fecf067",
            "value": "model.safetensors: 100%"
          }
        },
        "c92b042d858d4ea5aa5a72975c643a1b": {
          "model_module": "@jupyter-widgets/controls",
          "model_name": "FloatProgressModel",
          "model_module_version": "1.5.0",
          "state": {
            "_dom_classes": [],
            "_model_module": "@jupyter-widgets/controls",
            "_model_module_version": "1.5.0",
            "_model_name": "FloatProgressModel",
            "_view_count": null,
            "_view_module": "@jupyter-widgets/controls",
            "_view_module_version": "1.5.0",
            "_view_name": "ProgressView",
            "bar_style": "success",
            "description": "",
            "description_tooltip": null,
            "layout": "IPY_MODEL_b36ad9e554dd49ed894edebd917890b9",
            "max": 440449768,
            "min": 0,
            "orientation": "horizontal",
            "style": "IPY_MODEL_8b6dda5291414f07807c7602a9f5f4e4",
            "value": 440449768
          }
        },
        "f7c89281201f426683119a8e0ffc225c": {
          "model_module": "@jupyter-widgets/controls",
          "model_name": "HTMLModel",
          "model_module_version": "1.5.0",
          "state": {
            "_dom_classes": [],
            "_model_module": "@jupyter-widgets/controls",
            "_model_module_version": "1.5.0",
            "_model_name": "HTMLModel",
            "_view_count": null,
            "_view_module": "@jupyter-widgets/controls",
            "_view_module_version": "1.5.0",
            "_view_name": "HTMLView",
            "description": "",
            "description_tooltip": null,
            "layout": "IPY_MODEL_f80f855f946140ab81c8dd0139d6d56c",
            "placeholder": "​",
            "style": "IPY_MODEL_3c62e928d5d14f97943ca9a0ea54272b",
            "value": " 440M/440M [00:03&lt;00:00, 110MB/s]"
          }
        },
        "7ee9e5940fb849cc9a8a1aacc0af9617": {
          "model_module": "@jupyter-widgets/base",
          "model_name": "LayoutModel",
          "model_module_version": "1.2.0",
          "state": {
            "_model_module": "@jupyter-widgets/base",
            "_model_module_version": "1.2.0",
            "_model_name": "LayoutModel",
            "_view_count": null,
            "_view_module": "@jupyter-widgets/base",
            "_view_module_version": "1.2.0",
            "_view_name": "LayoutView",
            "align_content": null,
            "align_items": null,
            "align_self": null,
            "border": null,
            "bottom": null,
            "display": null,
            "flex": null,
            "flex_flow": null,
            "grid_area": null,
            "grid_auto_columns": null,
            "grid_auto_flow": null,
            "grid_auto_rows": null,
            "grid_column": null,
            "grid_gap": null,
            "grid_row": null,
            "grid_template_areas": null,
            "grid_template_columns": null,
            "grid_template_rows": null,
            "height": null,
            "justify_content": null,
            "justify_items": null,
            "left": null,
            "margin": null,
            "max_height": null,
            "max_width": null,
            "min_height": null,
            "min_width": null,
            "object_fit": null,
            "object_position": null,
            "order": null,
            "overflow": null,
            "overflow_x": null,
            "overflow_y": null,
            "padding": null,
            "right": null,
            "top": null,
            "visibility": null,
            "width": null
          }
        },
        "fa5a3d8b8ce94fca9b9f95350fba85cd": {
          "model_module": "@jupyter-widgets/base",
          "model_name": "LayoutModel",
          "model_module_version": "1.2.0",
          "state": {
            "_model_module": "@jupyter-widgets/base",
            "_model_module_version": "1.2.0",
            "_model_name": "LayoutModel",
            "_view_count": null,
            "_view_module": "@jupyter-widgets/base",
            "_view_module_version": "1.2.0",
            "_view_name": "LayoutView",
            "align_content": null,
            "align_items": null,
            "align_self": null,
            "border": null,
            "bottom": null,
            "display": null,
            "flex": null,
            "flex_flow": null,
            "grid_area": null,
            "grid_auto_columns": null,
            "grid_auto_flow": null,
            "grid_auto_rows": null,
            "grid_column": null,
            "grid_gap": null,
            "grid_row": null,
            "grid_template_areas": null,
            "grid_template_columns": null,
            "grid_template_rows": null,
            "height": null,
            "justify_content": null,
            "justify_items": null,
            "left": null,
            "margin": null,
            "max_height": null,
            "max_width": null,
            "min_height": null,
            "min_width": null,
            "object_fit": null,
            "object_position": null,
            "order": null,
            "overflow": null,
            "overflow_x": null,
            "overflow_y": null,
            "padding": null,
            "right": null,
            "top": null,
            "visibility": null,
            "width": null
          }
        },
        "c56d20264a834101aca5b8ef4fecf067": {
          "model_module": "@jupyter-widgets/controls",
          "model_name": "DescriptionStyleModel",
          "model_module_version": "1.5.0",
          "state": {
            "_model_module": "@jupyter-widgets/controls",
            "_model_module_version": "1.5.0",
            "_model_name": "DescriptionStyleModel",
            "_view_count": null,
            "_view_module": "@jupyter-widgets/base",
            "_view_module_version": "1.2.0",
            "_view_name": "StyleView",
            "description_width": ""
          }
        },
        "b36ad9e554dd49ed894edebd917890b9": {
          "model_module": "@jupyter-widgets/base",
          "model_name": "LayoutModel",
          "model_module_version": "1.2.0",
          "state": {
            "_model_module": "@jupyter-widgets/base",
            "_model_module_version": "1.2.0",
            "_model_name": "LayoutModel",
            "_view_count": null,
            "_view_module": "@jupyter-widgets/base",
            "_view_module_version": "1.2.0",
            "_view_name": "LayoutView",
            "align_content": null,
            "align_items": null,
            "align_self": null,
            "border": null,
            "bottom": null,
            "display": null,
            "flex": null,
            "flex_flow": null,
            "grid_area": null,
            "grid_auto_columns": null,
            "grid_auto_flow": null,
            "grid_auto_rows": null,
            "grid_column": null,
            "grid_gap": null,
            "grid_row": null,
            "grid_template_areas": null,
            "grid_template_columns": null,
            "grid_template_rows": null,
            "height": null,
            "justify_content": null,
            "justify_items": null,
            "left": null,
            "margin": null,
            "max_height": null,
            "max_width": null,
            "min_height": null,
            "min_width": null,
            "object_fit": null,
            "object_position": null,
            "order": null,
            "overflow": null,
            "overflow_x": null,
            "overflow_y": null,
            "padding": null,
            "right": null,
            "top": null,
            "visibility": null,
            "width": null
          }
        },
        "8b6dda5291414f07807c7602a9f5f4e4": {
          "model_module": "@jupyter-widgets/controls",
          "model_name": "ProgressStyleModel",
          "model_module_version": "1.5.0",
          "state": {
            "_model_module": "@jupyter-widgets/controls",
            "_model_module_version": "1.5.0",
            "_model_name": "ProgressStyleModel",
            "_view_count": null,
            "_view_module": "@jupyter-widgets/base",
            "_view_module_version": "1.2.0",
            "_view_name": "StyleView",
            "bar_color": null,
            "description_width": ""
          }
        },
        "f80f855f946140ab81c8dd0139d6d56c": {
          "model_module": "@jupyter-widgets/base",
          "model_name": "LayoutModel",
          "model_module_version": "1.2.0",
          "state": {
            "_model_module": "@jupyter-widgets/base",
            "_model_module_version": "1.2.0",
            "_model_name": "LayoutModel",
            "_view_count": null,
            "_view_module": "@jupyter-widgets/base",
            "_view_module_version": "1.2.0",
            "_view_name": "LayoutView",
            "align_content": null,
            "align_items": null,
            "align_self": null,
            "border": null,
            "bottom": null,
            "display": null,
            "flex": null,
            "flex_flow": null,
            "grid_area": null,
            "grid_auto_columns": null,
            "grid_auto_flow": null,
            "grid_auto_rows": null,
            "grid_column": null,
            "grid_gap": null,
            "grid_row": null,
            "grid_template_areas": null,
            "grid_template_columns": null,
            "grid_template_rows": null,
            "height": null,
            "justify_content": null,
            "justify_items": null,
            "left": null,
            "margin": null,
            "max_height": null,
            "max_width": null,
            "min_height": null,
            "min_width": null,
            "object_fit": null,
            "object_position": null,
            "order": null,
            "overflow": null,
            "overflow_x": null,
            "overflow_y": null,
            "padding": null,
            "right": null,
            "top": null,
            "visibility": null,
            "width": null
          }
        },
        "3c62e928d5d14f97943ca9a0ea54272b": {
          "model_module": "@jupyter-widgets/controls",
          "model_name": "DescriptionStyleModel",
          "model_module_version": "1.5.0",
          "state": {
            "_model_module": "@jupyter-widgets/controls",
            "_model_module_version": "1.5.0",
            "_model_name": "DescriptionStyleModel",
            "_view_count": null,
            "_view_module": "@jupyter-widgets/base",
            "_view_module_version": "1.2.0",
            "_view_name": "StyleView",
            "description_width": ""
          }
        }
      }
    }
  },
  "cells": [
    {
      "cell_type": "markdown",
      "source": [
        "**1 Importing Required Packages**"
      ],
      "metadata": {
        "id": "gI4LuPSmspOL"
      }
    },
    {
      "cell_type": "code",
      "source": [
        "!pip install wget"
      ],
      "metadata": {
        "colab": {
          "base_uri": "https://localhost:8080/"
        },
        "id": "3XgzNLXv9s1k",
        "outputId": "494c5a87-ebf9-47ec-9a12-4093fbb73890"
      },
      "execution_count": 2,
      "outputs": [
        {
          "output_type": "stream",
          "name": "stdout",
          "text": [
            "Collecting wget\n",
            "  Downloading wget-3.2.zip (10 kB)\n",
            "  Preparing metadata (setup.py) ... \u001b[?25l\u001b[?25hdone\n",
            "Building wheels for collected packages: wget\n",
            "  Building wheel for wget (setup.py) ... \u001b[?25l\u001b[?25hdone\n",
            "  Created wheel for wget: filename=wget-3.2-py3-none-any.whl size=9656 sha256=2dcc4c9a9271604f88e7af886098daed28972c294c7c8f9e83abce4248e00cf2\n",
            "  Stored in directory: /root/.cache/pip/wheels/8b/f1/7f/5c94f0a7a505ca1c81cd1d9208ae2064675d97582078e6c769\n",
            "Successfully built wget\n",
            "Installing collected packages: wget\n",
            "Successfully installed wget-3.2\n"
          ]
        }
      ]
    },
    {
      "cell_type": "code",
      "execution_count": 3,
      "metadata": {
        "id": "fnES0HUGrg03"
      },
      "outputs": [],
      "source": [
        "import os # for OS interactions\n",
        "import wget # for file downloading from the internet\n",
        "import torch # PyTorch library\n",
        "import time # time-related funtions\n",
        "import datetime # date and time manipulation\n",
        "import random # random number generation\n",
        "import pandas as pd # data manipulation and analysis\n",
        "import numpy as np # for numerical computation\n",
        "import tensorflow as tf # TensorFlow library\n",
        "from transformers import BertTokenizer # Hugging face's Transformers library\n",
        "from torch.utils.data import TensorDataset, random_split # PyTorch dataset utilities\n",
        "from torch.utils.data import DataLoader, RandomSampler, SequentialSampler #PyTorch data loading utilities\n",
        "from transformers import BertForSequenceClassification, AdamW, BertConfig # components of BERT model and its configuration\n",
        "from transformers import get_linear_schedule_with_warmup # Learning rate scheduler for BERT\n",
        "from sklearn.metrics import matthews_corrcoef # metric for binary classification from scikit-learn\n",
        "import matplotlib.pyplot as plt # Plotting library for Python %matplotlib inline\n",
        "import seaborn as sns # data visualizationn library\n",
        "import warnings\n",
        "warnings.filterwarnings('ignore')"
      ]
    },
    {
      "cell_type": "markdown",
      "source": [
        "**2 Setup**"
      ],
      "metadata": {
        "id": "W9wDsVjMtscT"
      }
    },
    {
      "cell_type": "markdown",
      "source": [
        "2.1 Using GPU for training\n",
        "To utilize the GPU with PyTorch, we first identify and designate the GPU as the device. Subsequently,\n",
        "during our training loop, we transfer data onto this device for processing"
      ],
      "metadata": {
        "id": "9O200gb1t0H6"
      }
    },
    {
      "cell_type": "code",
      "source": [
        "# if there is GPu available...\n",
        "if torch.cuda.is_available():\n",
        "  # tell PyTorch to use GPU\n",
        "  device_name = torch.device('cuda')\n",
        "  print('There are %d GPU(s) available' % torch.cuda.device_count())\n",
        "  print('we will use the GPU : ', torch.cuda.get_device_name(0))\n",
        "  # if not...\n",
        "else:\n",
        "  print('No GPU available, using the CPU instead')\n",
        "  device_name = torch.device('cpu')"
      ],
      "metadata": {
        "colab": {
          "base_uri": "https://localhost:8080/"
        },
        "id": "ctYVpo9Qsw9g",
        "outputId": "83a9d33c-4154-4d68-a015-4aae4a63ad2e"
      },
      "execution_count": 4,
      "outputs": [
        {
          "output_type": "stream",
          "name": "stdout",
          "text": [
            "There are 1 GPU(s) available\n",
            "we will use the GPU :  Tesla T4\n"
          ]
        }
      ]
    },
    {
      "cell_type": "markdown",
      "source": [
        "**3 Loading the CoLA Dataset**"
      ],
      "metadata": {
        "id": "VzjdJ65XuOmI"
      }
    },
    {
      "cell_type": "markdown",
      "source": [
        "We will utilize The Corpus of Linguistic Acceptability (CoLA) dataset for single sentence classification,\n",
        "which comprises sentences labeled as either grammatically correct or incorrect. CoLA\n",
        "was initially released in May 2018 and serves as one of the evaluation benchmarks in the GLUE\n",
        "Benchmark suite."
      ],
      "metadata": {
        "id": "R1CVKLE5uXT4"
      }
    },
    {
      "cell_type": "markdown",
      "source": [
        "3.1 Download and Extract\n",
        "We will employ the wget package to fetch the dataset and store it in the respective file system."
      ],
      "metadata": {
        "id": "ojZsiObIucnA"
      }
    },
    {
      "cell_type": "code",
      "source": [
        "print('Downloading the dataset...')\n",
        "# URL for dataset zip file\n",
        "url = 'https://nyu-mll.github.io/CoLA/cola_public_1.1.zip'\n",
        "# download the file (if we haven't already)\n",
        "if not os.path.exists('cola.zip'):\n",
        "  wget.download(url, 'cola.zip')"
      ],
      "metadata": {
        "colab": {
          "base_uri": "https://localhost:8080/"
        },
        "id": "LuvBeLEWsw7C",
        "outputId": "526526b2-72d7-4df6-ceef-fcff4f6aa1bf"
      },
      "execution_count": 5,
      "outputs": [
        {
          "output_type": "stream",
          "name": "stdout",
          "text": [
            "Downloading the dataset...\n"
          ]
        }
      ]
    },
    {
      "cell_type": "code",
      "source": [
        "# unzip the dataset (if we haven't already)\n",
        "if not os.path.exists('cola_public/'):\n",
        "  !unzip cola.zip"
      ],
      "metadata": {
        "colab": {
          "base_uri": "https://localhost:8080/"
        },
        "id": "85rQSUu9swz5",
        "outputId": "d51c4dbc-79af-4c7a-cadf-a6c3d9ddc298"
      },
      "execution_count": 6,
      "outputs": [
        {
          "output_type": "stream",
          "name": "stdout",
          "text": [
            "Archive:  cola.zip\n",
            "   creating: cola_public/\n",
            "  inflating: cola_public/README      \n",
            "   creating: cola_public/tokenized/\n",
            "  inflating: cola_public/tokenized/in_domain_dev.tsv  \n",
            "  inflating: cola_public/tokenized/in_domain_train.tsv  \n",
            "  inflating: cola_public/tokenized/out_of_domain_dev.tsv  \n",
            "   creating: cola_public/raw/\n",
            "  inflating: cola_public/raw/in_domain_dev.tsv  \n",
            "  inflating: cola_public/raw/in_domain_train.tsv  \n",
            "  inflating: cola_public/raw/out_of_domain_dev.tsv  \n"
          ]
        }
      ]
    },
    {
      "cell_type": "markdown",
      "source": [
        "3.2 Parse"
      ],
      "metadata": {
        "id": "ZgIOCJL_vCzY"
      }
    },
    {
      "cell_type": "markdown",
      "source": [
        "Both the tokenized and raw versions of the data are present in the file names. However, we\n",
        "cannot utilize the pre-tokenized version because when applying the pre-trained BERT model, we\n",
        "2\n",
        "are required to use the tokenizer provided by the model. This is essential due to the model’s specific\n",
        "vocabulary and the BERT tokenizer’s unique method of handling out-of-vocabulary words.\n",
        "Using pandas, we will parse the “in-domain” training set and examine some of its characteristics\n",
        "and data points."
      ],
      "metadata": {
        "id": "2p25uMn3vDxo"
      }
    },
    {
      "cell_type": "code",
      "source": [
        "# load the dataset into pandas dataframe\n",
        "df = pd.read_csv('./cola_public/raw/in_domain_train.tsv',\n",
        "delimiter='\\t',\n",
        "header = None,\n",
        "names = ['sentence_source', 'label', 'label_notes', 'sentence']\n",
        ")\n",
        "# report the number of sentences\n",
        "print('Number of sentences {:,}'.format(df.shape[0]))"
      ],
      "metadata": {
        "colab": {
          "base_uri": "https://localhost:8080/"
        },
        "id": "A85erh1eswxr",
        "outputId": "d23b56da-f99b-4d49-a7cc-6702df032504"
      },
      "execution_count": 7,
      "outputs": [
        {
          "output_type": "stream",
          "name": "stdout",
          "text": [
            "Number of sentences 8,551\n"
          ]
        }
      ]
    },
    {
      "cell_type": "code",
      "source": [
        "# display first 5 rows from the data\n",
        "df.head(5)"
      ],
      "metadata": {
        "colab": {
          "base_uri": "https://localhost:8080/",
          "height": 206
        },
        "id": "qJHSiHVOswvK",
        "outputId": "46145998-cc5f-4b18-dd5c-0e861780954d"
      },
      "execution_count": 8,
      "outputs": [
        {
          "output_type": "execute_result",
          "data": {
            "text/plain": [
              "  sentence_source  label label_notes  \\\n",
              "0            gj04      1         NaN   \n",
              "1            gj04      1         NaN   \n",
              "2            gj04      1         NaN   \n",
              "3            gj04      1         NaN   \n",
              "4            gj04      1         NaN   \n",
              "\n",
              "                                            sentence  \n",
              "0  Our friends won't buy this analysis, let alone...  \n",
              "1  One more pseudo generalization and I'm giving up.  \n",
              "2   One more pseudo generalization or I'm giving up.  \n",
              "3     The more we study verbs, the crazier they get.  \n",
              "4          Day by day the facts are getting murkier.  "
            ],
            "text/html": [
              "\n",
              "  <div id=\"df-e1a8d524-24fa-4ac2-b765-f939043d70c8\" class=\"colab-df-container\">\n",
              "    <div>\n",
              "<style scoped>\n",
              "    .dataframe tbody tr th:only-of-type {\n",
              "        vertical-align: middle;\n",
              "    }\n",
              "\n",
              "    .dataframe tbody tr th {\n",
              "        vertical-align: top;\n",
              "    }\n",
              "\n",
              "    .dataframe thead th {\n",
              "        text-align: right;\n",
              "    }\n",
              "</style>\n",
              "<table border=\"1\" class=\"dataframe\">\n",
              "  <thead>\n",
              "    <tr style=\"text-align: right;\">\n",
              "      <th></th>\n",
              "      <th>sentence_source</th>\n",
              "      <th>label</th>\n",
              "      <th>label_notes</th>\n",
              "      <th>sentence</th>\n",
              "    </tr>\n",
              "  </thead>\n",
              "  <tbody>\n",
              "    <tr>\n",
              "      <th>0</th>\n",
              "      <td>gj04</td>\n",
              "      <td>1</td>\n",
              "      <td>NaN</td>\n",
              "      <td>Our friends won't buy this analysis, let alone...</td>\n",
              "    </tr>\n",
              "    <tr>\n",
              "      <th>1</th>\n",
              "      <td>gj04</td>\n",
              "      <td>1</td>\n",
              "      <td>NaN</td>\n",
              "      <td>One more pseudo generalization and I'm giving up.</td>\n",
              "    </tr>\n",
              "    <tr>\n",
              "      <th>2</th>\n",
              "      <td>gj04</td>\n",
              "      <td>1</td>\n",
              "      <td>NaN</td>\n",
              "      <td>One more pseudo generalization or I'm giving up.</td>\n",
              "    </tr>\n",
              "    <tr>\n",
              "      <th>3</th>\n",
              "      <td>gj04</td>\n",
              "      <td>1</td>\n",
              "      <td>NaN</td>\n",
              "      <td>The more we study verbs, the crazier they get.</td>\n",
              "    </tr>\n",
              "    <tr>\n",
              "      <th>4</th>\n",
              "      <td>gj04</td>\n",
              "      <td>1</td>\n",
              "      <td>NaN</td>\n",
              "      <td>Day by day the facts are getting murkier.</td>\n",
              "    </tr>\n",
              "  </tbody>\n",
              "</table>\n",
              "</div>\n",
              "    <div class=\"colab-df-buttons\">\n",
              "\n",
              "  <div class=\"colab-df-container\">\n",
              "    <button class=\"colab-df-convert\" onclick=\"convertToInteractive('df-e1a8d524-24fa-4ac2-b765-f939043d70c8')\"\n",
              "            title=\"Convert this dataframe to an interactive table.\"\n",
              "            style=\"display:none;\">\n",
              "\n",
              "  <svg xmlns=\"http://www.w3.org/2000/svg\" height=\"24px\" viewBox=\"0 -960 960 960\">\n",
              "    <path d=\"M120-120v-720h720v720H120Zm60-500h600v-160H180v160Zm220 220h160v-160H400v160Zm0 220h160v-160H400v160ZM180-400h160v-160H180v160Zm440 0h160v-160H620v160ZM180-180h160v-160H180v160Zm440 0h160v-160H620v160Z\"/>\n",
              "  </svg>\n",
              "    </button>\n",
              "\n",
              "  <style>\n",
              "    .colab-df-container {\n",
              "      display:flex;\n",
              "      gap: 12px;\n",
              "    }\n",
              "\n",
              "    .colab-df-convert {\n",
              "      background-color: #E8F0FE;\n",
              "      border: none;\n",
              "      border-radius: 50%;\n",
              "      cursor: pointer;\n",
              "      display: none;\n",
              "      fill: #1967D2;\n",
              "      height: 32px;\n",
              "      padding: 0 0 0 0;\n",
              "      width: 32px;\n",
              "    }\n",
              "\n",
              "    .colab-df-convert:hover {\n",
              "      background-color: #E2EBFA;\n",
              "      box-shadow: 0px 1px 2px rgba(60, 64, 67, 0.3), 0px 1px 3px 1px rgba(60, 64, 67, 0.15);\n",
              "      fill: #174EA6;\n",
              "    }\n",
              "\n",
              "    .colab-df-buttons div {\n",
              "      margin-bottom: 4px;\n",
              "    }\n",
              "\n",
              "    [theme=dark] .colab-df-convert {\n",
              "      background-color: #3B4455;\n",
              "      fill: #D2E3FC;\n",
              "    }\n",
              "\n",
              "    [theme=dark] .colab-df-convert:hover {\n",
              "      background-color: #434B5C;\n",
              "      box-shadow: 0px 1px 3px 1px rgba(0, 0, 0, 0.15);\n",
              "      filter: drop-shadow(0px 1px 2px rgba(0, 0, 0, 0.3));\n",
              "      fill: #FFFFFF;\n",
              "    }\n",
              "  </style>\n",
              "\n",
              "    <script>\n",
              "      const buttonEl =\n",
              "        document.querySelector('#df-e1a8d524-24fa-4ac2-b765-f939043d70c8 button.colab-df-convert');\n",
              "      buttonEl.style.display =\n",
              "        google.colab.kernel.accessAllowed ? 'block' : 'none';\n",
              "\n",
              "      async function convertToInteractive(key) {\n",
              "        const element = document.querySelector('#df-e1a8d524-24fa-4ac2-b765-f939043d70c8');\n",
              "        const dataTable =\n",
              "          await google.colab.kernel.invokeFunction('convertToInteractive',\n",
              "                                                    [key], {});\n",
              "        if (!dataTable) return;\n",
              "\n",
              "        const docLinkHtml = 'Like what you see? Visit the ' +\n",
              "          '<a target=\"_blank\" href=https://colab.research.google.com/notebooks/data_table.ipynb>data table notebook</a>'\n",
              "          + ' to learn more about interactive tables.';\n",
              "        element.innerHTML = '';\n",
              "        dataTable['output_type'] = 'display_data';\n",
              "        await google.colab.output.renderOutput(dataTable, element);\n",
              "        const docLink = document.createElement('div');\n",
              "        docLink.innerHTML = docLinkHtml;\n",
              "        element.appendChild(docLink);\n",
              "      }\n",
              "    </script>\n",
              "  </div>\n",
              "\n",
              "\n",
              "<div id=\"df-85004323-3ed3-4746-9033-4bb95fdf496b\">\n",
              "  <button class=\"colab-df-quickchart\" onclick=\"quickchart('df-85004323-3ed3-4746-9033-4bb95fdf496b')\"\n",
              "            title=\"Suggest charts\"\n",
              "            style=\"display:none;\">\n",
              "\n",
              "<svg xmlns=\"http://www.w3.org/2000/svg\" height=\"24px\"viewBox=\"0 0 24 24\"\n",
              "     width=\"24px\">\n",
              "    <g>\n",
              "        <path d=\"M19 3H5c-1.1 0-2 .9-2 2v14c0 1.1.9 2 2 2h14c1.1 0 2-.9 2-2V5c0-1.1-.9-2-2-2zM9 17H7v-7h2v7zm4 0h-2V7h2v10zm4 0h-2v-4h2v4z\"/>\n",
              "    </g>\n",
              "</svg>\n",
              "  </button>\n",
              "\n",
              "<style>\n",
              "  .colab-df-quickchart {\n",
              "      --bg-color: #E8F0FE;\n",
              "      --fill-color: #1967D2;\n",
              "      --hover-bg-color: #E2EBFA;\n",
              "      --hover-fill-color: #174EA6;\n",
              "      --disabled-fill-color: #AAA;\n",
              "      --disabled-bg-color: #DDD;\n",
              "  }\n",
              "\n",
              "  [theme=dark] .colab-df-quickchart {\n",
              "      --bg-color: #3B4455;\n",
              "      --fill-color: #D2E3FC;\n",
              "      --hover-bg-color: #434B5C;\n",
              "      --hover-fill-color: #FFFFFF;\n",
              "      --disabled-bg-color: #3B4455;\n",
              "      --disabled-fill-color: #666;\n",
              "  }\n",
              "\n",
              "  .colab-df-quickchart {\n",
              "    background-color: var(--bg-color);\n",
              "    border: none;\n",
              "    border-radius: 50%;\n",
              "    cursor: pointer;\n",
              "    display: none;\n",
              "    fill: var(--fill-color);\n",
              "    height: 32px;\n",
              "    padding: 0;\n",
              "    width: 32px;\n",
              "  }\n",
              "\n",
              "  .colab-df-quickchart:hover {\n",
              "    background-color: var(--hover-bg-color);\n",
              "    box-shadow: 0 1px 2px rgba(60, 64, 67, 0.3), 0 1px 3px 1px rgba(60, 64, 67, 0.15);\n",
              "    fill: var(--button-hover-fill-color);\n",
              "  }\n",
              "\n",
              "  .colab-df-quickchart-complete:disabled,\n",
              "  .colab-df-quickchart-complete:disabled:hover {\n",
              "    background-color: var(--disabled-bg-color);\n",
              "    fill: var(--disabled-fill-color);\n",
              "    box-shadow: none;\n",
              "  }\n",
              "\n",
              "  .colab-df-spinner {\n",
              "    border: 2px solid var(--fill-color);\n",
              "    border-color: transparent;\n",
              "    border-bottom-color: var(--fill-color);\n",
              "    animation:\n",
              "      spin 1s steps(1) infinite;\n",
              "  }\n",
              "\n",
              "  @keyframes spin {\n",
              "    0% {\n",
              "      border-color: transparent;\n",
              "      border-bottom-color: var(--fill-color);\n",
              "      border-left-color: var(--fill-color);\n",
              "    }\n",
              "    20% {\n",
              "      border-color: transparent;\n",
              "      border-left-color: var(--fill-color);\n",
              "      border-top-color: var(--fill-color);\n",
              "    }\n",
              "    30% {\n",
              "      border-color: transparent;\n",
              "      border-left-color: var(--fill-color);\n",
              "      border-top-color: var(--fill-color);\n",
              "      border-right-color: var(--fill-color);\n",
              "    }\n",
              "    40% {\n",
              "      border-color: transparent;\n",
              "      border-right-color: var(--fill-color);\n",
              "      border-top-color: var(--fill-color);\n",
              "    }\n",
              "    60% {\n",
              "      border-color: transparent;\n",
              "      border-right-color: var(--fill-color);\n",
              "    }\n",
              "    80% {\n",
              "      border-color: transparent;\n",
              "      border-right-color: var(--fill-color);\n",
              "      border-bottom-color: var(--fill-color);\n",
              "    }\n",
              "    90% {\n",
              "      border-color: transparent;\n",
              "      border-bottom-color: var(--fill-color);\n",
              "    }\n",
              "  }\n",
              "</style>\n",
              "\n",
              "  <script>\n",
              "    async function quickchart(key) {\n",
              "      const quickchartButtonEl =\n",
              "        document.querySelector('#' + key + ' button');\n",
              "      quickchartButtonEl.disabled = true;  // To prevent multiple clicks.\n",
              "      quickchartButtonEl.classList.add('colab-df-spinner');\n",
              "      try {\n",
              "        const charts = await google.colab.kernel.invokeFunction(\n",
              "            'suggestCharts', [key], {});\n",
              "      } catch (error) {\n",
              "        console.error('Error during call to suggestCharts:', error);\n",
              "      }\n",
              "      quickchartButtonEl.classList.remove('colab-df-spinner');\n",
              "      quickchartButtonEl.classList.add('colab-df-quickchart-complete');\n",
              "    }\n",
              "    (() => {\n",
              "      let quickchartButtonEl =\n",
              "        document.querySelector('#df-85004323-3ed3-4746-9033-4bb95fdf496b button');\n",
              "      quickchartButtonEl.style.display =\n",
              "        google.colab.kernel.accessAllowed ? 'block' : 'none';\n",
              "    })();\n",
              "  </script>\n",
              "</div>\n",
              "\n",
              "    </div>\n",
              "  </div>\n"
            ],
            "application/vnd.google.colaboratory.intrinsic+json": {
              "type": "dataframe",
              "variable_name": "df",
              "summary": "{\n  \"name\": \"df\",\n  \"rows\": 8551,\n  \"fields\": [\n    {\n      \"column\": \"sentence_source\",\n      \"properties\": {\n        \"dtype\": \"category\",\n        \"num_unique_values\": 17,\n        \"samples\": [\n          \"gj04\",\n          \"cj99\",\n          \"l-93\"\n        ],\n        \"semantic_type\": \"\",\n        \"description\": \"\"\n      }\n    },\n    {\n      \"column\": \"label\",\n      \"properties\": {\n        \"dtype\": \"number\",\n        \"std\": 0,\n        \"min\": 0,\n        \"max\": 1,\n        \"num_unique_values\": 2,\n        \"samples\": [\n          0,\n          1\n        ],\n        \"semantic_type\": \"\",\n        \"description\": \"\"\n      }\n    },\n    {\n      \"column\": \"label_notes\",\n      \"properties\": {\n        \"dtype\": \"category\",\n        \"num_unique_values\": 4,\n        \"samples\": [\n          \"*?\",\n          \"?*\"\n        ],\n        \"semantic_type\": \"\",\n        \"description\": \"\"\n      }\n    },\n    {\n      \"column\": \"sentence\",\n      \"properties\": {\n        \"dtype\": \"string\",\n        \"num_unique_values\": 8532,\n        \"samples\": [\n          \"John stayed him busy.\",\n          \"All the dragons have been slain.\"\n        ],\n        \"semantic_type\": \"\",\n        \"description\": \"\"\n      }\n    }\n  ]\n}"
            }
          },
          "metadata": {},
          "execution_count": 8
        }
      ]
    },
    {
      "cell_type": "markdown",
      "source": [
        "We focus on two properties: the sentence and its label, termed as 0 for unacceptable, and 1 for\n",
        "acceptable. Presented are five sentences labeled as grammatically unacceptable"
      ],
      "metadata": {
        "id": "TAf2f0ITv3eC"
      }
    },
    {
      "cell_type": "code",
      "source": [
        "df.loc[df.label == 0].head(5)[['sentence', 'label']]"
      ],
      "metadata": {
        "colab": {
          "base_uri": "https://localhost:8080/",
          "height": 206
        },
        "id": "Xj1ludmSswso",
        "outputId": "2a3dac64-e29c-44fd-9487-fccdc4ce8d32"
      },
      "execution_count": 9,
      "outputs": [
        {
          "output_type": "execute_result",
          "data": {
            "text/plain": [
              "                    sentence  label\n",
              "18       They drank the pub.      0\n",
              "20  The professor talked us.      0\n",
              "22      We yelled ourselves.      0\n",
              "23   We yelled Harry hoarse.      0\n",
              "25    Harry coughed himself.      0"
            ],
            "text/html": [
              "\n",
              "  <div id=\"df-6dc67d94-d415-4cf0-96e8-352f37f8bf9e\" class=\"colab-df-container\">\n",
              "    <div>\n",
              "<style scoped>\n",
              "    .dataframe tbody tr th:only-of-type {\n",
              "        vertical-align: middle;\n",
              "    }\n",
              "\n",
              "    .dataframe tbody tr th {\n",
              "        vertical-align: top;\n",
              "    }\n",
              "\n",
              "    .dataframe thead th {\n",
              "        text-align: right;\n",
              "    }\n",
              "</style>\n",
              "<table border=\"1\" class=\"dataframe\">\n",
              "  <thead>\n",
              "    <tr style=\"text-align: right;\">\n",
              "      <th></th>\n",
              "      <th>sentence</th>\n",
              "      <th>label</th>\n",
              "    </tr>\n",
              "  </thead>\n",
              "  <tbody>\n",
              "    <tr>\n",
              "      <th>18</th>\n",
              "      <td>They drank the pub.</td>\n",
              "      <td>0</td>\n",
              "    </tr>\n",
              "    <tr>\n",
              "      <th>20</th>\n",
              "      <td>The professor talked us.</td>\n",
              "      <td>0</td>\n",
              "    </tr>\n",
              "    <tr>\n",
              "      <th>22</th>\n",
              "      <td>We yelled ourselves.</td>\n",
              "      <td>0</td>\n",
              "    </tr>\n",
              "    <tr>\n",
              "      <th>23</th>\n",
              "      <td>We yelled Harry hoarse.</td>\n",
              "      <td>0</td>\n",
              "    </tr>\n",
              "    <tr>\n",
              "      <th>25</th>\n",
              "      <td>Harry coughed himself.</td>\n",
              "      <td>0</td>\n",
              "    </tr>\n",
              "  </tbody>\n",
              "</table>\n",
              "</div>\n",
              "    <div class=\"colab-df-buttons\">\n",
              "\n",
              "  <div class=\"colab-df-container\">\n",
              "    <button class=\"colab-df-convert\" onclick=\"convertToInteractive('df-6dc67d94-d415-4cf0-96e8-352f37f8bf9e')\"\n",
              "            title=\"Convert this dataframe to an interactive table.\"\n",
              "            style=\"display:none;\">\n",
              "\n",
              "  <svg xmlns=\"http://www.w3.org/2000/svg\" height=\"24px\" viewBox=\"0 -960 960 960\">\n",
              "    <path d=\"M120-120v-720h720v720H120Zm60-500h600v-160H180v160Zm220 220h160v-160H400v160Zm0 220h160v-160H400v160ZM180-400h160v-160H180v160Zm440 0h160v-160H620v160ZM180-180h160v-160H180v160Zm440 0h160v-160H620v160Z\"/>\n",
              "  </svg>\n",
              "    </button>\n",
              "\n",
              "  <style>\n",
              "    .colab-df-container {\n",
              "      display:flex;\n",
              "      gap: 12px;\n",
              "    }\n",
              "\n",
              "    .colab-df-convert {\n",
              "      background-color: #E8F0FE;\n",
              "      border: none;\n",
              "      border-radius: 50%;\n",
              "      cursor: pointer;\n",
              "      display: none;\n",
              "      fill: #1967D2;\n",
              "      height: 32px;\n",
              "      padding: 0 0 0 0;\n",
              "      width: 32px;\n",
              "    }\n",
              "\n",
              "    .colab-df-convert:hover {\n",
              "      background-color: #E2EBFA;\n",
              "      box-shadow: 0px 1px 2px rgba(60, 64, 67, 0.3), 0px 1px 3px 1px rgba(60, 64, 67, 0.15);\n",
              "      fill: #174EA6;\n",
              "    }\n",
              "\n",
              "    .colab-df-buttons div {\n",
              "      margin-bottom: 4px;\n",
              "    }\n",
              "\n",
              "    [theme=dark] .colab-df-convert {\n",
              "      background-color: #3B4455;\n",
              "      fill: #D2E3FC;\n",
              "    }\n",
              "\n",
              "    [theme=dark] .colab-df-convert:hover {\n",
              "      background-color: #434B5C;\n",
              "      box-shadow: 0px 1px 3px 1px rgba(0, 0, 0, 0.15);\n",
              "      filter: drop-shadow(0px 1px 2px rgba(0, 0, 0, 0.3));\n",
              "      fill: #FFFFFF;\n",
              "    }\n",
              "  </style>\n",
              "\n",
              "    <script>\n",
              "      const buttonEl =\n",
              "        document.querySelector('#df-6dc67d94-d415-4cf0-96e8-352f37f8bf9e button.colab-df-convert');\n",
              "      buttonEl.style.display =\n",
              "        google.colab.kernel.accessAllowed ? 'block' : 'none';\n",
              "\n",
              "      async function convertToInteractive(key) {\n",
              "        const element = document.querySelector('#df-6dc67d94-d415-4cf0-96e8-352f37f8bf9e');\n",
              "        const dataTable =\n",
              "          await google.colab.kernel.invokeFunction('convertToInteractive',\n",
              "                                                    [key], {});\n",
              "        if (!dataTable) return;\n",
              "\n",
              "        const docLinkHtml = 'Like what you see? Visit the ' +\n",
              "          '<a target=\"_blank\" href=https://colab.research.google.com/notebooks/data_table.ipynb>data table notebook</a>'\n",
              "          + ' to learn more about interactive tables.';\n",
              "        element.innerHTML = '';\n",
              "        dataTable['output_type'] = 'display_data';\n",
              "        await google.colab.output.renderOutput(dataTable, element);\n",
              "        const docLink = document.createElement('div');\n",
              "        docLink.innerHTML = docLinkHtml;\n",
              "        element.appendChild(docLink);\n",
              "      }\n",
              "    </script>\n",
              "  </div>\n",
              "\n",
              "\n",
              "<div id=\"df-9d142d04-de59-4fb3-9cd6-7f79a5f5848c\">\n",
              "  <button class=\"colab-df-quickchart\" onclick=\"quickchart('df-9d142d04-de59-4fb3-9cd6-7f79a5f5848c')\"\n",
              "            title=\"Suggest charts\"\n",
              "            style=\"display:none;\">\n",
              "\n",
              "<svg xmlns=\"http://www.w3.org/2000/svg\" height=\"24px\"viewBox=\"0 0 24 24\"\n",
              "     width=\"24px\">\n",
              "    <g>\n",
              "        <path d=\"M19 3H5c-1.1 0-2 .9-2 2v14c0 1.1.9 2 2 2h14c1.1 0 2-.9 2-2V5c0-1.1-.9-2-2-2zM9 17H7v-7h2v7zm4 0h-2V7h2v10zm4 0h-2v-4h2v4z\"/>\n",
              "    </g>\n",
              "</svg>\n",
              "  </button>\n",
              "\n",
              "<style>\n",
              "  .colab-df-quickchart {\n",
              "      --bg-color: #E8F0FE;\n",
              "      --fill-color: #1967D2;\n",
              "      --hover-bg-color: #E2EBFA;\n",
              "      --hover-fill-color: #174EA6;\n",
              "      --disabled-fill-color: #AAA;\n",
              "      --disabled-bg-color: #DDD;\n",
              "  }\n",
              "\n",
              "  [theme=dark] .colab-df-quickchart {\n",
              "      --bg-color: #3B4455;\n",
              "      --fill-color: #D2E3FC;\n",
              "      --hover-bg-color: #434B5C;\n",
              "      --hover-fill-color: #FFFFFF;\n",
              "      --disabled-bg-color: #3B4455;\n",
              "      --disabled-fill-color: #666;\n",
              "  }\n",
              "\n",
              "  .colab-df-quickchart {\n",
              "    background-color: var(--bg-color);\n",
              "    border: none;\n",
              "    border-radius: 50%;\n",
              "    cursor: pointer;\n",
              "    display: none;\n",
              "    fill: var(--fill-color);\n",
              "    height: 32px;\n",
              "    padding: 0;\n",
              "    width: 32px;\n",
              "  }\n",
              "\n",
              "  .colab-df-quickchart:hover {\n",
              "    background-color: var(--hover-bg-color);\n",
              "    box-shadow: 0 1px 2px rgba(60, 64, 67, 0.3), 0 1px 3px 1px rgba(60, 64, 67, 0.15);\n",
              "    fill: var(--button-hover-fill-color);\n",
              "  }\n",
              "\n",
              "  .colab-df-quickchart-complete:disabled,\n",
              "  .colab-df-quickchart-complete:disabled:hover {\n",
              "    background-color: var(--disabled-bg-color);\n",
              "    fill: var(--disabled-fill-color);\n",
              "    box-shadow: none;\n",
              "  }\n",
              "\n",
              "  .colab-df-spinner {\n",
              "    border: 2px solid var(--fill-color);\n",
              "    border-color: transparent;\n",
              "    border-bottom-color: var(--fill-color);\n",
              "    animation:\n",
              "      spin 1s steps(1) infinite;\n",
              "  }\n",
              "\n",
              "  @keyframes spin {\n",
              "    0% {\n",
              "      border-color: transparent;\n",
              "      border-bottom-color: var(--fill-color);\n",
              "      border-left-color: var(--fill-color);\n",
              "    }\n",
              "    20% {\n",
              "      border-color: transparent;\n",
              "      border-left-color: var(--fill-color);\n",
              "      border-top-color: var(--fill-color);\n",
              "    }\n",
              "    30% {\n",
              "      border-color: transparent;\n",
              "      border-left-color: var(--fill-color);\n",
              "      border-top-color: var(--fill-color);\n",
              "      border-right-color: var(--fill-color);\n",
              "    }\n",
              "    40% {\n",
              "      border-color: transparent;\n",
              "      border-right-color: var(--fill-color);\n",
              "      border-top-color: var(--fill-color);\n",
              "    }\n",
              "    60% {\n",
              "      border-color: transparent;\n",
              "      border-right-color: var(--fill-color);\n",
              "    }\n",
              "    80% {\n",
              "      border-color: transparent;\n",
              "      border-right-color: var(--fill-color);\n",
              "      border-bottom-color: var(--fill-color);\n",
              "    }\n",
              "    90% {\n",
              "      border-color: transparent;\n",
              "      border-bottom-color: var(--fill-color);\n",
              "    }\n",
              "  }\n",
              "</style>\n",
              "\n",
              "  <script>\n",
              "    async function quickchart(key) {\n",
              "      const quickchartButtonEl =\n",
              "        document.querySelector('#' + key + ' button');\n",
              "      quickchartButtonEl.disabled = true;  // To prevent multiple clicks.\n",
              "      quickchartButtonEl.classList.add('colab-df-spinner');\n",
              "      try {\n",
              "        const charts = await google.colab.kernel.invokeFunction(\n",
              "            'suggestCharts', [key], {});\n",
              "      } catch (error) {\n",
              "        console.error('Error during call to suggestCharts:', error);\n",
              "      }\n",
              "      quickchartButtonEl.classList.remove('colab-df-spinner');\n",
              "      quickchartButtonEl.classList.add('colab-df-quickchart-complete');\n",
              "    }\n",
              "    (() => {\n",
              "      let quickchartButtonEl =\n",
              "        document.querySelector('#df-9d142d04-de59-4fb3-9cd6-7f79a5f5848c button');\n",
              "      quickchartButtonEl.style.display =\n",
              "        google.colab.kernel.accessAllowed ? 'block' : 'none';\n",
              "    })();\n",
              "  </script>\n",
              "</div>\n",
              "\n",
              "    </div>\n",
              "  </div>\n"
            ],
            "application/vnd.google.colaboratory.intrinsic+json": {
              "type": "dataframe",
              "summary": "{\n  \"name\": \"df\",\n  \"rows\": 5,\n  \"fields\": [\n    {\n      \"column\": \"sentence\",\n      \"properties\": {\n        \"dtype\": \"string\",\n        \"num_unique_values\": 5,\n        \"samples\": [\n          \"The professor talked us.\",\n          \"Harry coughed himself.\",\n          \"We yelled ourselves.\"\n        ],\n        \"semantic_type\": \"\",\n        \"description\": \"\"\n      }\n    },\n    {\n      \"column\": \"label\",\n      \"properties\": {\n        \"dtype\": \"number\",\n        \"std\": 0,\n        \"min\": 0,\n        \"max\": 0,\n        \"num_unique_values\": 1,\n        \"samples\": [\n          0\n        ],\n        \"semantic_type\": \"\",\n        \"description\": \"\"\n      }\n    }\n  ]\n}"
            }
          },
          "metadata": {},
          "execution_count": 9
        }
      ]
    },
    {
      "cell_type": "markdown",
      "source": [
        "We will extract the sentences and labels from our training set and convert them into numpy\n",
        "ndarrays."
      ],
      "metadata": {
        "id": "o06BwKR8wE3Q"
      }
    },
    {
      "cell_type": "code",
      "source": [
        "# get the set of sentences and their respective labels\n",
        "sentences = df.sentence.values\n",
        "labels = df.label.values"
      ],
      "metadata": {
        "id": "EmqKooc2swqQ"
      },
      "execution_count": 10,
      "outputs": []
    },
    {
      "cell_type": "markdown",
      "source": [
        "**4 Tokenization and Input Formatting**"
      ],
      "metadata": {
        "id": "9S1_NnLmwmov"
      }
    },
    {
      "cell_type": "markdown",
      "source": [
        "4.1 BERT Tokenizer"
      ],
      "metadata": {
        "id": "XMI4XmvswqlY"
      }
    },
    {
      "cell_type": "markdown",
      "source": [
        "This code snippet downloads the BERT tokenizer, which is necessary for tokenizing text. The text\n",
        "needs to be split into tokens and then mapped to their corresponding indices in the tokenizer’s\n",
        "vocabulary. We will use the uncased version of the tokenizer for this task."
      ],
      "metadata": {
        "id": "AiHABK3Kwvj_"
      }
    },
    {
      "cell_type": "code",
      "source": [
        "# Load the BERT tokenizer...\n",
        "print('Loading the BERT tokenizer...')\n",
        "tokenizer = BertTokenizer.from_pretrained(\n",
        "'bert-base-uncased',\n",
        "do_lower_case=True)"
      ],
      "metadata": {
        "colab": {
          "base_uri": "https://localhost:8080/",
          "height": 162,
          "referenced_widgets": [
            "893a2fb6c7c74364a49b93355a69665b",
            "899abbecc6b84b9ba77ed7baa7a78872",
            "f2e0df4238524f21b04ff4f6d555fa79",
            "bd5c5052f52f46d9bf8107cafaa0ae43",
            "175a5ec55eef4158acb6c6943494e49a",
            "9385422ee5674b9d8a936462a7e94ae2",
            "5b6c5f21e4e14aff9d6e671f8e160ad1",
            "596ddbc9bbe648438266764162782eeb",
            "4751ba0470274342b372cb48bdd8286f",
            "a8e67009ba6c4facbb31f40b4af97b5f",
            "78bc2d40dfe74df6b53f5e4bf0cda659",
            "d1018bea41cc4884874d9033bfd328d8",
            "f0f32a0c9f8145f193875684886da046",
            "c2c7844f72104f23b5b224ea562cfdcd",
            "923c365d08134853bf3959eee4aa85c8",
            "b152f97df78a415ba373171d8b1899ff",
            "381f90a5964d4bf0892f3b64d636d576",
            "4e16a3139af741828898068db3baed93",
            "9179695ea10b44c2b4aec0d4b80446ac",
            "f6f99173d8334baaadb6f7955acde59e",
            "126c33cf4ed34fddb07805b003ac0fce",
            "27abdf2fb2d94b9ca3ec0090866ab462",
            "bbb229d753674d548c375ce8e63c5da9",
            "90162d6e231046c4bd77465ee26b0269",
            "97f4327006bc4fa8b0d483145045b8bc",
            "c276e425f39846d4b56c1d9461a7ddb2",
            "6efea7766d264bc49924ae8ba1b86f98",
            "b3d630b2ce47485084048776b2b91a56",
            "62aec89db4ef4540a42e29b7bfd4faff",
            "1a7ff20b386b4675bf3c0e0edf82a36f",
            "e665ad2fcb6a47298db503a5221af756",
            "f7121c6621504456b76ce74098ba4d19",
            "827af48277714c0cb05c0294a56f6352",
            "160b567f3eb2440ebe350b2fc31493ea",
            "4f2f2dacaafd46b7a60eb0c805290f0a",
            "13676d4cc8424a39b6533615beb7e6cf",
            "b090e9a10b944bb382591433a5807b5d",
            "d144a706d151472a9d8977453314521b",
            "debd92de38164e33805968c5a4d0b089",
            "7f9a196682cd4dc1a1c6ba0bf01f8176",
            "f960d0b125da4f09bea8c181329af994",
            "0d11111f789a414bb0a5c6616d91c149",
            "a27cfe9aaf084004a73cdbe394de1ed5",
            "b3c319ddab4b43f69c00142a4dc43f14"
          ]
        },
        "id": "vZWqoRQWswn7",
        "outputId": "dcbccb3a-4868-497f-b25e-a93373a0667b"
      },
      "execution_count": 11,
      "outputs": [
        {
          "output_type": "stream",
          "name": "stdout",
          "text": [
            "Loading the BERT tokenizer...\n"
          ]
        },
        {
          "output_type": "display_data",
          "data": {
            "text/plain": [
              "tokenizer_config.json:   0%|          | 0.00/48.0 [00:00<?, ?B/s]"
            ],
            "application/vnd.jupyter.widget-view+json": {
              "version_major": 2,
              "version_minor": 0,
              "model_id": "893a2fb6c7c74364a49b93355a69665b"
            }
          },
          "metadata": {}
        },
        {
          "output_type": "display_data",
          "data": {
            "text/plain": [
              "vocab.txt:   0%|          | 0.00/232k [00:00<?, ?B/s]"
            ],
            "application/vnd.jupyter.widget-view+json": {
              "version_major": 2,
              "version_minor": 0,
              "model_id": "d1018bea41cc4884874d9033bfd328d8"
            }
          },
          "metadata": {}
        },
        {
          "output_type": "display_data",
          "data": {
            "text/plain": [
              "tokenizer.json:   0%|          | 0.00/466k [00:00<?, ?B/s]"
            ],
            "application/vnd.jupyter.widget-view+json": {
              "version_major": 2,
              "version_minor": 0,
              "model_id": "bbb229d753674d548c375ce8e63c5da9"
            }
          },
          "metadata": {}
        },
        {
          "output_type": "display_data",
          "data": {
            "text/plain": [
              "config.json:   0%|          | 0.00/570 [00:00<?, ?B/s]"
            ],
            "application/vnd.jupyter.widget-view+json": {
              "version_major": 2,
              "version_minor": 0,
              "model_id": "160b567f3eb2440ebe350b2fc31493ea"
            }
          },
          "metadata": {}
        }
      ]
    },
    {
      "cell_type": "markdown",
      "source": [
        "Let’s tokenize a single sentence to observe the output."
      ],
      "metadata": {
        "id": "WKW2zG7bw-Vf"
      }
    },
    {
      "cell_type": "code",
      "source": [
        "# print the original sentence\n",
        "print('original sentence : ', sentences[0])\n",
        "# print the sentence split into tokens\n",
        "print('Tokenized : ', tokenizer.tokenize(sentences[0]))\n",
        "# print the sentence mapped to token IDs\n",
        "print('Token IDs : ', tokenizer.convert_tokens_to_ids(tokenizer.tokenize(sentences[0])))"
      ],
      "metadata": {
        "colab": {
          "base_uri": "https://localhost:8080/"
        },
        "id": "36tN2gzcswlh",
        "outputId": "06d06937-7c8e-4fa7-e52e-78fcdcb671bf"
      },
      "execution_count": 12,
      "outputs": [
        {
          "output_type": "stream",
          "name": "stdout",
          "text": [
            "original sentence :  Our friends won't buy this analysis, let alone the next one we propose.\n",
            "Tokenized :  ['our', 'friends', 'won', \"'\", 't', 'buy', 'this', 'analysis', ',', 'let', 'alone', 'the', 'next', 'one', 'we', 'propose', '.']\n",
            "Token IDs :  [2256, 2814, 2180, 1005, 1056, 4965, 2023, 4106, 1010, 2292, 2894, 1996, 2279, 2028, 2057, 16599, 1012]\n"
          ]
        }
      ]
    },
    {
      "cell_type": "markdown",
      "source": [
        "4.2 Tokenize Dataset"
      ],
      "metadata": {
        "id": "ry5_53fSxOFg"
      }
    },
    {
      "cell_type": "markdown",
      "source": [
        "This code snippet conducts a single tokenization pass over the dataset to determine the maximum\n",
        "length of sentences, which will be used for padding or truncation during encoding"
      ],
      "metadata": {
        "id": "S_R1siFpxQjv"
      }
    },
    {
      "cell_type": "code",
      "source": [
        "max_len = 0\n",
        "# for every sentence\n",
        "4\n",
        "for sentence in sentences:\n",
        "# tokenize the text and add [CLS] and [SEP] tokens\n",
        "  input_ids = tokenizer.encode(sentence, add_special_tokens=True)\n",
        "  # update the maximum sentence length\n",
        "  max_len = max(max_len, len(input_ids))\n",
        "print('Maximum sentence length : ', max_len)"
      ],
      "metadata": {
        "colab": {
          "base_uri": "https://localhost:8080/"
        },
        "id": "SUOe4cumswjC",
        "outputId": "9872d3d8-bb16-4c18-aef2-1584bbaa3ae3"
      },
      "execution_count": 13,
      "outputs": [
        {
          "output_type": "stream",
          "name": "stdout",
          "text": [
            "Maximum sentence length :  47\n"
          ]
        }
      ]
    },
    {
      "cell_type": "markdown",
      "source": [
        "We are ready to tokenize our data using tokenizer.encode_plus, which handles several tasks:\n",
        "1. It tokenizes the sentences.\n",
        "2. Special tokens like [CLS] and [SEP] are added.\n",
        "3. Token IDs are assigned to each token.\n",
        "4. Sentences are padded or truncated to ensure uniform length.\n",
        "5. Attention masks are created to differentiate real tokens from padding tokens."
      ],
      "metadata": {
        "id": "WmT478VbxiIO"
      }
    },
    {
      "cell_type": "markdown",
      "source": [
        "While tokenizer.encode handles the first four tasks, we opt for tokenizer.encode_plus to also\n",
        "generate attention masks."
      ],
      "metadata": {
        "id": "kMgakBFUxnHY"
      }
    },
    {
      "cell_type": "code",
      "source": [
        "# tokenize all sentences and map tokens to their token IDs\n",
        "input_ids = []\n",
        "attention_masks = []\n",
        "# for every sentence\n",
        "for sentence in sentences:\n",
        "# This will:\n",
        "# 1) tokenize the sentence\n",
        "# 2) preprend [CLS] token to the start\n",
        "# 3) append [SEP] token to the end\n",
        "# 4) map token to their IDs\n",
        "# 5) pad or truncate sentence to max_length\n",
        "# 6) create attention masks for [PAD] tokens\n",
        "  encoded_dict = tokenizer.encode_plus(sentence, # sentence to encode\n",
        "  add_special_tokens=True, # add [CLS] and [SEP] tokens\n",
        "  max_length = 64, # pad and truncate all sentences\n",
        "  pad_to_max_length = True,\n",
        "  return_attention_mask = True, # construct attention masks\n",
        "  return_tensors = 'pt' # return pytorch tensors\n",
        ")\n",
        "  # add encoded sentence to the list\n",
        "  input_ids.append(encoded_dict['input_ids'])\n",
        "  # and its attention mask\n",
        "  attention_masks.append(encoded_dict['attention_mask'])\n",
        "# convert the lists into tensors\n",
        "input_ids = torch.cat(input_ids, dim=0)\n",
        "attention_masks = torch.cat(attention_masks, dim=0)\n",
        "labels = torch.tensor(labels)"
      ],
      "metadata": {
        "colab": {
          "base_uri": "https://localhost:8080/"
        },
        "id": "1EnbnZ_Yswgk",
        "outputId": "ca725cb5-de52-4660-ea88-90083c004678"
      },
      "execution_count": 14,
      "outputs": [
        {
          "output_type": "stream",
          "name": "stderr",
          "text": [
            "Truncation was not explicitly activated but `max_length` is provided a specific value, please use `truncation=True` to explicitly truncate examples to max length. Defaulting to 'longest_first' truncation strategy. If you encode pairs of sequences (GLUE-style) with the tokenizer you can select this strategy more precisely by providing a specific strategy to `truncation`.\n"
          ]
        }
      ]
    },
    {
      "cell_type": "code",
      "source": [
        "# print sample sentence, now as list of IDs\n",
        "print('original sentence : ', sentences[0])\n",
        "print('Token IDs : ', input_ids[0])"
      ],
      "metadata": {
        "colab": {
          "base_uri": "https://localhost:8080/"
        },
        "id": "KkNO9h2fsweQ",
        "outputId": "895ce467-4874-4251-f6b4-a8ded6ed622a"
      },
      "execution_count": 15,
      "outputs": [
        {
          "output_type": "stream",
          "name": "stdout",
          "text": [
            "original sentence :  Our friends won't buy this analysis, let alone the next one we propose.\n",
            "Token IDs :  tensor([  101,  2256,  2814,  2180,  1005,  1056,  4965,  2023,  4106,  1010,\n",
            "         2292,  2894,  1996,  2279,  2028,  2057, 16599,  1012,   102,     0,\n",
            "            0,     0,     0,     0,     0,     0,     0,     0,     0,     0,\n",
            "            0,     0,     0,     0,     0,     0,     0,     0,     0,     0,\n",
            "            0,     0,     0,     0,     0,     0,     0,     0,     0,     0,\n",
            "            0,     0,     0,     0,     0,     0,     0,     0,     0,     0,\n",
            "            0,     0,     0,     0])\n"
          ]
        }
      ]
    },
    {
      "cell_type": "markdown",
      "source": [
        "4.3 Training and Validation Split"
      ],
      "metadata": {
        "id": "g8CDLEROyRyM"
      }
    },
    {
      "cell_type": "markdown",
      "source": [
        "Now, split the training set into 90% for training and 10% for validation."
      ],
      "metadata": {
        "id": "abkKZP6AyUDm"
      }
    },
    {
      "cell_type": "code",
      "source": [
        "# combine training inputs into TensorDataset\n",
        "dataset = TensorDataset(input_ids, attention_masks, labels)\n",
        "# create 90-10 train-validation split\n",
        "train_size = int(0.9 * len(dataset))\n",
        "val_size = len(dataset) - train_size\n",
        "# divide dataset by randomly selecting samples\n",
        "train_dataset, val_dataset = random_split(dataset, [train_size, val_size])\n",
        "print('{:,} training samples'.format(train_size))\n",
        "print('{:,} validation samples'.format(val_size))"
      ],
      "metadata": {
        "colab": {
          "base_uri": "https://localhost:8080/"
        },
        "id": "nmuAXQaMswby",
        "outputId": "40e7e100-157a-4e1e-de96-a38900c645af"
      },
      "execution_count": 16,
      "outputs": [
        {
          "output_type": "stream",
          "name": "stdout",
          "text": [
            "7,695 training samples\n",
            "856 validation samples\n"
          ]
        }
      ]
    },
    {
      "cell_type": "markdown",
      "source": [
        "We will utilize the torch DataLoader class to create an iterator for our dataset. This approach\n",
        "conserves memory during training since, unlike a for loop, an iterator doesn’t require loading the\n",
        "entire dataset into memory at once."
      ],
      "metadata": {
        "id": "1tGdaBGcydRX"
      }
    },
    {
      "cell_type": "code",
      "source": [
        "# batch size\n",
        "batch_size = 32\n",
        "# create DataLoaders for training and validation sets\n",
        "# we will take training sample in random order\n",
        "train_dataloader = DataLoader(\n",
        "train_dataset, # training samples\n",
        "sampler = RandomSampler(train_dataset), # select batches randomly\n",
        "batch_size = batch_size # trains with this batch size\n",
        ")\n",
        "# for validation, the order doesn't matter, so we will read them sequetially\n",
        "val_dataloader = DataLoader(val_dataset, # validation samples\n",
        "sampler = SequentialSampler(val_dataset), # select batches sequentially\n",
        "batch_size = batch_size # evaluate with this batch size\n",
        ")"
      ],
      "metadata": {
        "id": "xmpXEv1dswZh"
      },
      "execution_count": 17,
      "outputs": []
    },
    {
      "cell_type": "markdown",
      "source": [
        "**5 Train our Classification Model**"
      ],
      "metadata": {
        "id": "89AH7ulOyuyf"
      }
    },
    {
      "cell_type": "markdown",
      "source": [
        "5.1 BERT for sequence classification"
      ],
      "metadata": {
        "id": "EXtQeClmyzse"
      }
    },
    {
      "cell_type": "markdown",
      "source": [
        "We are going to customize a pre-trained BERT model for classification tasks. Specifically, we will\n",
        "employ the BertForSequenceClassification interface provided by the Hugging Face library. This\n",
        "interface extends the basic BERT model by adding a classification layer on top."
      ],
      "metadata": {
        "id": "pPGFbiqey2UP"
      }
    },
    {
      "cell_type": "markdown",
      "source": [
        "By fine-tuning this model on our dataset, we will optimize both the pre-trained BERT layers and\n",
        "the additional classification layer for our specific classification task."
      ],
      "metadata": {
        "id": "FpTvBbRsy7Ml"
      }
    },
    {
      "cell_type": "code",
      "source": [
        "# load the BertForSequenceClassification, pre-trained BERT mode with single linear classification layer\n",
        "model = BertForSequenceClassification.from_pretrained('bert-base-uncased', # use BERT base model (includes 12 layes), with uncased vocab\n",
        "\n",
        "num_labels = 2, # number of output labels = 2, for binary classification\n",
        "output_attentions = False, # whether model returns attention weights\n",
        "output_hidden_states = False # whether model returns  hidden states\n",
        ")"
      ],
      "metadata": {
        "colab": {
          "base_uri": "https://localhost:8080/",
          "height": 104,
          "referenced_widgets": [
            "5b68ca9045a249d497fb6f092c8750f4",
            "56c04b3e701f420eaa44381fba2ab9d9",
            "c92b042d858d4ea5aa5a72975c643a1b",
            "f7c89281201f426683119a8e0ffc225c",
            "7ee9e5940fb849cc9a8a1aacc0af9617",
            "fa5a3d8b8ce94fca9b9f95350fba85cd",
            "c56d20264a834101aca5b8ef4fecf067",
            "b36ad9e554dd49ed894edebd917890b9",
            "8b6dda5291414f07807c7602a9f5f4e4",
            "f80f855f946140ab81c8dd0139d6d56c",
            "3c62e928d5d14f97943ca9a0ea54272b"
          ]
        },
        "id": "fB0KTpPRyZJ4",
        "outputId": "3c7ebecf-b696-4f17-9f54-44684fa05e9b"
      },
      "execution_count": 18,
      "outputs": [
        {
          "output_type": "display_data",
          "data": {
            "text/plain": [
              "model.safetensors:   0%|          | 0.00/440M [00:00<?, ?B/s]"
            ],
            "application/vnd.jupyter.widget-view+json": {
              "version_major": 2,
              "version_minor": 0,
              "model_id": "5b68ca9045a249d497fb6f092c8750f4"
            }
          },
          "metadata": {}
        },
        {
          "output_type": "stream",
          "name": "stderr",
          "text": [
            "Some weights of BertForSequenceClassification were not initialized from the model checkpoint at bert-base-uncased and are newly initialized: ['classifier.bias', 'classifier.weight']\n",
            "You should probably TRAIN this model on a down-stream task to be able to use it for predictions and inference.\n"
          ]
        }
      ]
    },
    {
      "cell_type": "markdown",
      "source": [
        "In the following cell, I have displayed the names and sizes of the parameters for:\n",
        "1. The embedding layer.\n",
        "2. The first transformer among the twelve.\n",
        "3. The output layer."
      ],
      "metadata": {
        "id": "6m--I5YmzW8Z"
      }
    },
    {
      "cell_type": "code",
      "source": [
        "# get all of model's parameters as list of tuples\n",
        "params = list(model.named_parameters())\n",
        "print('BERT model has {:} different named parameters \\n'.format(len(params)))\n",
        "print('------------------------ Embedding Layer ------------------------\\n')\n",
        "for p in params[0:5]:\n",
        "  print('{:<55} {:>12}'.format(p[0], str(tuple(p[1].size()))))\n",
        "print('\\n------------------------ First Transformer ------------------------\\n')\n",
        "for p in params[5:21]:\n",
        "  print('{:<55} {:>12}'.format(p[0], str(tuple(p[1].size()))))\n",
        "print('\\n------------------------ Output Layer ------------------------\\n')\n",
        "for p in params[-4:]:\n",
        "  print('{:<55} {:>12}'.format(p[0], str(tuple(p[1].size()))))"
      ],
      "metadata": {
        "colab": {
          "base_uri": "https://localhost:8080/"
        },
        "id": "GONKTmRxy6JW",
        "outputId": "cfcea014-53a4-449d-f34e-0a3e8e0acbf6"
      },
      "execution_count": 19,
      "outputs": [
        {
          "output_type": "stream",
          "name": "stdout",
          "text": [
            "BERT model has 201 different named parameters \n",
            "\n",
            "------------------------ Embedding Layer ------------------------\n",
            "\n",
            "bert.embeddings.word_embeddings.weight                  (30522, 768)\n",
            "bert.embeddings.position_embeddings.weight                (512, 768)\n",
            "bert.embeddings.token_type_embeddings.weight                (2, 768)\n",
            "bert.embeddings.LayerNorm.weight                              (768,)\n",
            "bert.embeddings.LayerNorm.bias                                (768,)\n",
            "\n",
            "------------------------ First Transformer ------------------------\n",
            "\n",
            "bert.encoder.layer.0.attention.self.query.weight          (768, 768)\n",
            "bert.encoder.layer.0.attention.self.query.bias                (768,)\n",
            "bert.encoder.layer.0.attention.self.key.weight            (768, 768)\n",
            "bert.encoder.layer.0.attention.self.key.bias                  (768,)\n",
            "bert.encoder.layer.0.attention.self.value.weight          (768, 768)\n",
            "bert.encoder.layer.0.attention.self.value.bias                (768,)\n",
            "bert.encoder.layer.0.attention.output.dense.weight        (768, 768)\n",
            "bert.encoder.layer.0.attention.output.dense.bias              (768,)\n",
            "bert.encoder.layer.0.attention.output.LayerNorm.weight        (768,)\n",
            "bert.encoder.layer.0.attention.output.LayerNorm.bias          (768,)\n",
            "bert.encoder.layer.0.intermediate.dense.weight           (3072, 768)\n",
            "bert.encoder.layer.0.intermediate.dense.bias                 (3072,)\n",
            "bert.encoder.layer.0.output.dense.weight                 (768, 3072)\n",
            "bert.encoder.layer.0.output.dense.bias                        (768,)\n",
            "bert.encoder.layer.0.output.LayerNorm.weight                  (768,)\n",
            "bert.encoder.layer.0.output.LayerNorm.bias                    (768,)\n",
            "\n",
            "------------------------ Output Layer ------------------------\n",
            "\n",
            "bert.pooler.dense.weight                                  (768, 768)\n",
            "bert.pooler.dense.bias                                        (768,)\n",
            "classifier.weight                                           (2, 768)\n",
            "classifier.bias                                                 (2,)\n"
          ]
        }
      ]
    },
    {
      "cell_type": "markdown",
      "source": [
        "5.2 Optimizer and Learning Rate Scheduler"
      ],
      "metadata": {
        "id": "-ZZdZSUj0N9L"
      }
    },
    {
      "cell_type": "markdown",
      "source": [
        "We need to extract the training hyperparameters from the pre-trained model. Based on the recommendations\n",
        "in the BERT paper, we will select values for:\n",
        "- Batch size: Choosing from 16 or 32.\n",
        "- Learning rate (Adam): Selecting from 5e-5, 3e-5, or 2e-5.\n",
        "- Number of epochs: Deciding among 2, 3, or 4."
      ],
      "metadata": {
        "id": "ZD-Nmoq-0SJA"
      }
    },
    {
      "cell_type": "markdown",
      "source": [
        "We have decided on:\n",
        "- Batch size: 32 (specified during DataLoader creation).\n",
        "- Learning rate: 2e-5.\n",
        "- Epochs: 4"
      ],
      "metadata": {
        "id": "iFQqrJ3k0ZY-"
      }
    },
    {
      "cell_type": "markdown",
      "source": [
        "The epsilon parameter, eps = 1e-8, is set as a tiny value to prevent division by zero during\n",
        "optimization."
      ],
      "metadata": {
        "id": "oo7nY0SP0gj1"
      }
    },
    {
      "cell_type": "code",
      "source": [
        "# AdamW is class from huggingface library (as opposed to pytorch)\n",
        "optimizer = AdamW(\n",
        "model.parameters(),\n",
        "lr = 2e-5, # learning rate - default is 5e-5, we have defined as 2e-5\n",
        "eps = 1e-8 # adam_epsilon - default is 1e-8\n",
        ")"
      ],
      "metadata": {
        "id": "WnjaIMn5yZHf"
      },
      "execution_count": 20,
      "outputs": []
    },
    {
      "cell_type": "code",
      "source": [
        "#number of learning epochs\n",
        "epochs = 4\n",
        "# total number of training steps is [number of epochs] * [number of eopochs]\n",
        "total_steps = len(train_dataloader) * epochs\n",
        "# create learning rate scheduler\n",
        "scheduler = get_linear_schedule_with_warmup(\n",
        "optimizer,\n",
        "num_warmup_steps = 0,\n",
        "num_training_steps=total_steps\n",
        ")"
      ],
      "metadata": {
        "id": "FwLzA5sEyZFY"
      },
      "execution_count": 21,
      "outputs": []
    },
    {
      "cell_type": "markdown",
      "source": [
        "5.3 Training Loop"
      ],
      "metadata": {
        "id": "YZqeZ1Fd0y89"
      }
    },
    {
      "cell_type": "markdown",
      "source": [
        "This training loop consists of two main phases: training and validation."
      ],
      "metadata": {
        "id": "AjRHWakx02XF"
      }
    },
    {
      "cell_type": "markdown",
      "source": [
        "Training Phase:\n",
        "- Extract input data and labels.\n",
        "- Transfer data to the GPU for faster processing.\n",
        "- Clear previous gradients to avoid accumulation.\n",
        "- Perform forward pass through the network.\n",
        "- Conduct backward pass (backpropagation).\n",
        "- Update network parameters using optimizer.step().\n",
        "- Keep track of variables for monitoring progress."
      ],
      "metadata": {
        "id": "myh3Z7x104y1"
      }
    },
    {
      "cell_type": "markdown",
      "source": [
        "Validation Phase:\n",
        "- Extract input data and labels.\n",
        "- Transfer data to the GPU.\n",
        "- Perform forward pass through the network.\n",
        "- Calculate loss on validation data and monitor progress."
      ],
      "metadata": {
        "id": "6p--Uacj1Dkt"
      }
    },
    {
      "cell_type": "markdown",
      "source": [
        "Let’s define a utility function to compute accuracy"
      ],
      "metadata": {
        "id": "tEBHJHPJ1Kw5"
      }
    },
    {
      "cell_type": "code",
      "source": [
        "# function to calculate accuracy of our predictions vs labels\n",
        "def accuracy_flat(preds, labels):\n",
        "  pred_flat = np.argmax(preds, axis = 1).flatten()\n",
        "  labels_flat = labels.flatten()\n",
        "  return np.sum(pred_flat == labels_flat) / len(labels_flat)"
      ],
      "metadata": {
        "id": "NDMD8rjuyZDu"
      },
      "execution_count": 22,
      "outputs": []
    },
    {
      "cell_type": "markdown",
      "source": [
        "Function to format elapsed times as hh:mm:ss."
      ],
      "metadata": {
        "id": "I4xxAf6k1YDD"
      }
    },
    {
      "cell_type": "code",
      "source": [
        "def format_time(elapsed):\n",
        "  '''\n",
        "  Takes time in seconds and returns in string format i.e. hh:mm:ss\n",
        "  '''\n",
        "  # round to nearest second\n",
        "  elapsed_round = int(round(elapsed))\n",
        "  # format as hh:mm:ss\n",
        "  return str(datetime.timedelta(seconds=elapsed_round))"
      ],
      "metadata": {
        "id": "efIHnyoF1Sfm"
      },
      "execution_count": 23,
      "outputs": []
    },
    {
      "cell_type": "markdown",
      "source": [
        "Ready for Training"
      ],
      "metadata": {
        "id": "k3DOJFEw1gOE"
      }
    },
    {
      "cell_type": "code",
      "source": [
        "# set the seed value\n",
        "seed_val = 42\n",
        "\n",
        "# Define the device\n",
        "device_name = torch.device(\"cuda:0\")\n",
        "random.seed(seed_val)\n",
        "np.random.seed(seed_val)\n",
        "torch.manual_seed(seed_val)\n",
        "torch.cuda.manual_seed_all(seed_val)\n",
        "\n",
        "# for storing training and validation loss, validation accuracy and timings\n",
        "training_stats = []\n",
        "\n",
        "# measure total training time for whole run\n",
        "total_t0 = time.time()\n",
        "\n",
        "# for each epoch...\n",
        "for epoch in range(0, epochs):\n",
        "  # ==================================================\n",
        "  # Training\n",
        "  # ==================================================\n",
        "  print(\"\")\n",
        "  print('------------ Epoch {:} / {:} ------------'.format(epoch+1, epochs))\n",
        "  print('training...')\n",
        "  # for measuring how long each training epoch takes\n",
        "  t0 = time.time()\n",
        "  # reset total loss for this epoch\n",
        "  total_train_loss = 0\n",
        "  # put the model into training mode\n",
        "  model.to(device_name)\n",
        "  model.train()\n",
        "\n",
        "  # for each batch of training data...\n",
        "  for step, batch in enumerate(train_dataloader):\n",
        "    # progress update every 40 batches\n",
        "    if step % 40 == 0 and not step == 0:\n",
        "      # calculate elapsed time in minutes\n",
        "      elapsed = format_time(time.time() - t0)\n",
        "      # report progres\n",
        "      print(' Batch {:>5,} of {:>5,}. Elapsed : {:}.'.format(step,len(train_dataloader), elapsed))\n",
        "\n",
        "    # unpack training batch from dataloader\n",
        "    batch_input_ids = batch[0].to(device_name)\n",
        "    batch_input_mask = batch[1].to(device_name)\n",
        "    batch_labels = batch[2].to(device_name)\n",
        "\n",
        "    # clear any previously calculated gradients before performing backward pass\n",
        "    model.zero_grad()\n",
        "\n",
        "    #perform forward pass (evaluate model on this training batch)\n",
        "    result = model(\n",
        "    batch_input_ids,\n",
        "    token_type_ids = None,\n",
        "    attention_mask=batch_input_mask,\n",
        "    labels = batch_labels,\n",
        "    return_dict = True\n",
        "   )\n",
        "\n",
        "    # in the results, we get loss and logits i.e. the model outputs before activation\n",
        "    loss = result.loss\n",
        "    logits = result.logits\n",
        "\n",
        "    # accumulate the training loss over all of batches\n",
        "    total_train_loss += loss.item()\n",
        "\n",
        "    # perform backward pass to calculate gradients\n",
        "    loss.backward()\n",
        "\n",
        "    # clip the norm of gradients to 1.0\n",
        "    # that will help in preventing exploding gradients\n",
        "    torch.nn.utils.clip_grad_norm_(model.parameters(), 1.0)\n",
        "\n",
        "    # update parameters and take step using computed gradient\n",
        "    optimizer.step()\n",
        "\n",
        "    # update the learning rate\n",
        "    scheduler.step()\n",
        "\n",
        "  # calculate average loss over all of batches\n",
        "  avg_train_loss = total_train_loss / len(train_dataloader)\n",
        "\n",
        "  #measure how long this epoch took\n",
        "  training_time = format_time(time.time() - t0)\n",
        "\n",
        "  print('')\n",
        "  print('Average training loss : {0:.2f}'.format(avg_train_loss))\n",
        "  print(' Training epoch took : {:}'.format(training_time))\n",
        "\n",
        "  # ==================================================\n",
        "  # Validation\n",
        "  # ==================================================\n",
        "\n",
        "  print(\"\")\n",
        "  print(' Running Validation...')\n",
        "\n",
        "  t0 = time.time()\n",
        "  # put the model in evaluation\n",
        "  model.eval()\n",
        "\n",
        "  # traking variables\n",
        "  total_eval_accuracy = 0\n",
        "  total_eval_loss = 0\n",
        "  nb_eval_steps = 0\n",
        "\n",
        "  # evaluate data for one epoch\n",
        "  for batch in val_dataloader:\n",
        "    # unpack training batch from dataloader\n",
        "    batch_input_ids = batch[0].to(device_name)\n",
        "    batch_input_mask = batch[1].to(device_name)\n",
        "    batch_labels = batch[2].to(device_name)\n",
        "\n",
        "    # no need for constructing graph during forward pass, since this is only needed for backprop (training)\n",
        "    with torch.no_grad():\n",
        "    # forward pass, calculate logit predictions\n",
        "      result = model(batch_input_ids,token_type_ids = None,attention_mask=batch_input_mask,labels = batch_labels,return_dict = True)\n",
        "\n",
        "    # get the loss and logits output by model\n",
        "    loss = result.loss\n",
        "    logits = result.logits\n",
        "\n",
        "    # accumulate the validation loss\n",
        "    total_eval_loss += loss.item()\n",
        "\n",
        "    # move logits and labels to CPU\n",
        "    logits = logits.detach().cpu().numpy()\n",
        "    label_ids = batch_labels.to('cpu').numpy()\n",
        "\n",
        "    # calculate accuracy for this batch of text sentences, and accumulate it over all batches\n",
        "    total_eval_accuracy += accuracy_flat(logits, label_ids)\n",
        "\n",
        "    # report the final accuracy for this validation run\n",
        "    avg_val_accuracy = total_eval_accuracy / len(val_dataloader)\n",
        "    print(\"Accuracy : {0:.2f}\".format(avg_val_accuracy))\n",
        "\n",
        "    # calculate avg loss over all of batches\n",
        "    avg_val_loss = total_eval_loss / len(val_dataloader)\n",
        "\n",
        "    # measure how long validation run took\n",
        "    val_time = format_time(time.time() - t0)\n",
        "\n",
        "    print('Validation loss : {0:.2f}'.format(avg_val_loss))\n",
        "    print(' Validation took : {:}'.format(val_time))\n",
        "\n",
        "    # record all statistics from this epoch\n",
        "    training_stats.append({'epoch' : epoch + 1,'train loss' : avg_train_loss,'valid loss' : avg_val_loss,'valid accuracy' : avg_val_accuracy,'training time' : training_time,'validation time' : val_time})\n",
        "\n",
        "\n",
        "print('')\n",
        "print('Training completed...')\n",
        "print('Total training took {:} (h:mm:ss)'.format(format_time(time.time()-total_t0)))\n",
        "\n",
        "\n",
        "\n",
        "\n",
        "\n",
        ""
      ],
      "metadata": {
        "colab": {
          "base_uri": "https://localhost:8080/"
        },
        "id": "Z4nfe1MfyY9_",
        "outputId": "c68b57cc-c729-40a7-baf8-e95052579a4c"
      },
      "execution_count": 24,
      "outputs": [
        {
          "output_type": "stream",
          "name": "stdout",
          "text": [
            "\n",
            "------------ Epoch 1 / 4 ------------\n",
            "training...\n",
            " Batch    40 of   241. Elapsed : 0:00:16.\n",
            " Batch    80 of   241. Elapsed : 0:00:28.\n",
            " Batch   120 of   241. Elapsed : 0:00:41.\n",
            " Batch   160 of   241. Elapsed : 0:00:53.\n",
            " Batch   200 of   241. Elapsed : 0:01:06.\n",
            " Batch   240 of   241. Elapsed : 0:01:19.\n",
            "\n",
            "Average training loss : 0.50\n",
            " Training epoch took : 0:01:20\n",
            "\n",
            " Running Validation...\n",
            "Accuracy : 0.03\n",
            "Validation loss : 0.01\n",
            " Validation took : 0:00:00\n",
            "Accuracy : 0.06\n",
            "Validation loss : 0.03\n",
            " Validation took : 0:00:00\n",
            "Accuracy : 0.10\n",
            "Validation loss : 0.04\n",
            " Validation took : 0:00:00\n",
            "Accuracy : 0.12\n",
            "Validation loss : 0.06\n",
            " Validation took : 0:00:00\n",
            "Accuracy : 0.15\n",
            "Validation loss : 0.08\n",
            " Validation took : 0:00:01\n",
            "Accuracy : 0.19\n",
            "Validation loss : 0.09\n",
            " Validation took : 0:00:01\n",
            "Accuracy : 0.21\n",
            "Validation loss : 0.11\n",
            " Validation took : 0:00:01\n",
            "Accuracy : 0.24\n",
            "Validation loss : 0.13\n",
            " Validation took : 0:00:01\n",
            "Accuracy : 0.27\n",
            "Validation loss : 0.14\n",
            " Validation took : 0:00:01\n",
            "Accuracy : 0.31\n",
            "Validation loss : 0.15\n",
            " Validation took : 0:00:01\n",
            "Accuracy : 0.34\n",
            "Validation loss : 0.16\n",
            " Validation took : 0:00:01\n",
            "Accuracy : 0.37\n",
            "Validation loss : 0.18\n",
            " Validation took : 0:00:01\n",
            "Accuracy : 0.40\n",
            "Validation loss : 0.19\n",
            " Validation took : 0:00:02\n",
            "Accuracy : 0.43\n",
            "Validation loss : 0.20\n",
            " Validation took : 0:00:02\n",
            "Accuracy : 0.47\n",
            "Validation loss : 0.21\n",
            " Validation took : 0:00:02\n",
            "Accuracy : 0.50\n",
            "Validation loss : 0.22\n",
            " Validation took : 0:00:02\n",
            "Accuracy : 0.53\n",
            "Validation loss : 0.24\n",
            " Validation took : 0:00:02\n",
            "Accuracy : 0.56\n",
            "Validation loss : 0.25\n",
            " Validation took : 0:00:02\n",
            "Accuracy : 0.59\n",
            "Validation loss : 0.27\n",
            " Validation took : 0:00:02\n",
            "Accuracy : 0.62\n",
            "Validation loss : 0.28\n",
            " Validation took : 0:00:02\n",
            "Accuracy : 0.65\n",
            "Validation loss : 0.30\n",
            " Validation took : 0:00:02\n",
            "Accuracy : 0.68\n",
            "Validation loss : 0.32\n",
            " Validation took : 0:00:03\n",
            "Accuracy : 0.71\n",
            "Validation loss : 0.33\n",
            " Validation took : 0:00:03\n",
            "Accuracy : 0.74\n",
            "Validation loss : 0.35\n",
            " Validation took : 0:00:03\n",
            "Accuracy : 0.77\n",
            "Validation loss : 0.36\n",
            " Validation took : 0:00:03\n",
            "Accuracy : 0.80\n",
            "Validation loss : 0.38\n",
            " Validation took : 0:00:03\n",
            "Accuracy : 0.83\n",
            "Validation loss : 0.39\n",
            " Validation took : 0:00:03\n",
            "\n",
            "------------ Epoch 2 / 4 ------------\n",
            "training...\n",
            " Batch    40 of   241. Elapsed : 0:00:13.\n",
            " Batch    80 of   241. Elapsed : 0:00:26.\n",
            " Batch   120 of   241. Elapsed : 0:00:39.\n",
            " Batch   160 of   241. Elapsed : 0:00:52.\n",
            " Batch   200 of   241. Elapsed : 0:01:05.\n",
            " Batch   240 of   241. Elapsed : 0:01:19.\n",
            "\n",
            "Average training loss : 0.31\n",
            " Training epoch took : 0:01:19\n",
            "\n",
            " Running Validation...\n",
            "Accuracy : 0.03\n",
            "Validation loss : 0.02\n",
            " Validation took : 0:00:00\n",
            "Accuracy : 0.06\n",
            "Validation loss : 0.03\n",
            " Validation took : 0:00:00\n",
            "Accuracy : 0.09\n",
            "Validation loss : 0.04\n",
            " Validation took : 0:00:00\n",
            "Accuracy : 0.12\n",
            "Validation loss : 0.07\n",
            " Validation took : 0:00:00\n",
            "Accuracy : 0.15\n",
            "Validation loss : 0.08\n",
            " Validation took : 0:00:01\n",
            "Accuracy : 0.18\n",
            "Validation loss : 0.10\n",
            " Validation took : 0:00:01\n",
            "Accuracy : 0.21\n",
            "Validation loss : 0.13\n",
            " Validation took : 0:00:01\n",
            "Accuracy : 0.24\n",
            "Validation loss : 0.14\n",
            " Validation took : 0:00:01\n",
            "Accuracy : 0.27\n",
            "Validation loss : 0.15\n",
            " Validation took : 0:00:01\n",
            "Accuracy : 0.31\n",
            "Validation loss : 0.16\n",
            " Validation took : 0:00:01\n",
            "Accuracy : 0.34\n",
            "Validation loss : 0.18\n",
            " Validation took : 0:00:01\n",
            "Accuracy : 0.37\n",
            "Validation loss : 0.19\n",
            " Validation took : 0:00:01\n",
            "Accuracy : 0.40\n",
            "Validation loss : 0.20\n",
            " Validation took : 0:00:01\n",
            "Accuracy : 0.43\n",
            "Validation loss : 0.21\n",
            " Validation took : 0:00:02\n",
            "Accuracy : 0.47\n",
            "Validation loss : 0.22\n",
            " Validation took : 0:00:02\n",
            "Accuracy : 0.50\n",
            "Validation loss : 0.23\n",
            " Validation took : 0:00:02\n",
            "Accuracy : 0.53\n",
            "Validation loss : 0.25\n",
            " Validation took : 0:00:02\n",
            "Accuracy : 0.56\n",
            "Validation loss : 0.27\n",
            " Validation took : 0:00:02\n",
            "Accuracy : 0.59\n",
            "Validation loss : 0.28\n",
            " Validation took : 0:00:02\n",
            "Accuracy : 0.62\n",
            "Validation loss : 0.30\n",
            " Validation took : 0:00:02\n",
            "Accuracy : 0.66\n",
            "Validation loss : 0.31\n",
            " Validation took : 0:00:02\n",
            "Accuracy : 0.68\n",
            "Validation loss : 0.34\n",
            " Validation took : 0:00:03\n",
            "Accuracy : 0.71\n",
            "Validation loss : 0.35\n",
            " Validation took : 0:00:03\n",
            "Accuracy : 0.74\n",
            "Validation loss : 0.37\n",
            " Validation took : 0:00:03\n",
            "Accuracy : 0.77\n",
            "Validation loss : 0.39\n",
            " Validation took : 0:00:03\n",
            "Accuracy : 0.80\n",
            "Validation loss : 0.41\n",
            " Validation took : 0:00:03\n",
            "Accuracy : 0.83\n",
            "Validation loss : 0.42\n",
            " Validation took : 0:00:03\n",
            "\n",
            "------------ Epoch 3 / 4 ------------\n",
            "training...\n",
            " Batch    40 of   241. Elapsed : 0:00:13.\n",
            " Batch    80 of   241. Elapsed : 0:00:26.\n",
            " Batch   120 of   241. Elapsed : 0:00:39.\n",
            " Batch   160 of   241. Elapsed : 0:00:52.\n",
            " Batch   200 of   241. Elapsed : 0:01:06.\n",
            " Batch   240 of   241. Elapsed : 0:01:19.\n",
            "\n",
            "Average training loss : 0.20\n",
            " Training epoch took : 0:01:19\n",
            "\n",
            " Running Validation...\n",
            "Accuracy : 0.03\n",
            "Validation loss : 0.02\n",
            " Validation took : 0:00:00\n",
            "Accuracy : 0.06\n",
            "Validation loss : 0.04\n",
            " Validation took : 0:00:00\n",
            "Accuracy : 0.09\n",
            "Validation loss : 0.05\n",
            " Validation took : 0:00:00\n",
            "Accuracy : 0.12\n",
            "Validation loss : 0.08\n",
            " Validation took : 0:00:00\n",
            "Accuracy : 0.16\n",
            "Validation loss : 0.09\n",
            " Validation took : 0:00:01\n",
            "Accuracy : 0.19\n",
            "Validation loss : 0.12\n",
            " Validation took : 0:00:01\n",
            "Accuracy : 0.21\n",
            "Validation loss : 0.16\n",
            " Validation took : 0:00:01\n",
            "Accuracy : 0.24\n",
            "Validation loss : 0.17\n",
            " Validation took : 0:00:01\n",
            "Accuracy : 0.28\n",
            "Validation loss : 0.18\n",
            " Validation took : 0:00:01\n",
            "Accuracy : 0.31\n",
            "Validation loss : 0.19\n",
            " Validation took : 0:00:01\n",
            "Accuracy : 0.34\n",
            "Validation loss : 0.20\n",
            " Validation took : 0:00:01\n",
            "Accuracy : 0.37\n",
            "Validation loss : 0.22\n",
            " Validation took : 0:00:01\n",
            "Accuracy : 0.41\n",
            "Validation loss : 0.24\n",
            " Validation took : 0:00:01\n",
            "Accuracy : 0.44\n",
            "Validation loss : 0.25\n",
            " Validation took : 0:00:02\n",
            "Accuracy : 0.47\n",
            "Validation loss : 0.26\n",
            " Validation took : 0:00:02\n",
            "Accuracy : 0.51\n",
            "Validation loss : 0.27\n",
            " Validation took : 0:00:02\n",
            "Accuracy : 0.54\n",
            "Validation loss : 0.29\n",
            " Validation took : 0:00:02\n",
            "Accuracy : 0.56\n",
            "Validation loss : 0.32\n",
            " Validation took : 0:00:02\n",
            "Accuracy : 0.60\n",
            "Validation loss : 0.33\n",
            " Validation took : 0:00:02\n",
            "Accuracy : 0.63\n",
            "Validation loss : 0.35\n",
            " Validation took : 0:00:02\n",
            "Accuracy : 0.66\n",
            "Validation loss : 0.37\n",
            " Validation took : 0:00:02\n",
            "Accuracy : 0.69\n",
            "Validation loss : 0.40\n",
            " Validation took : 0:00:03\n",
            "Accuracy : 0.72\n",
            "Validation loss : 0.42\n",
            " Validation took : 0:00:03\n",
            "Accuracy : 0.75\n",
            "Validation loss : 0.44\n",
            " Validation took : 0:00:03\n",
            "Accuracy : 0.78\n",
            "Validation loss : 0.46\n",
            " Validation took : 0:00:03\n",
            "Accuracy : 0.81\n",
            "Validation loss : 0.48\n",
            " Validation took : 0:00:03\n",
            "Accuracy : 0.84\n",
            "Validation loss : 0.49\n",
            " Validation took : 0:00:03\n",
            "\n",
            "------------ Epoch 4 / 4 ------------\n",
            "training...\n",
            " Batch    40 of   241. Elapsed : 0:00:13.\n",
            " Batch    80 of   241. Elapsed : 0:00:26.\n",
            " Batch   120 of   241. Elapsed : 0:00:39.\n",
            " Batch   160 of   241. Elapsed : 0:00:52.\n",
            " Batch   200 of   241. Elapsed : 0:01:06.\n",
            " Batch   240 of   241. Elapsed : 0:01:19.\n",
            "\n",
            "Average training loss : 0.13\n",
            " Training epoch took : 0:01:19\n",
            "\n",
            " Running Validation...\n",
            "Accuracy : 0.03\n",
            "Validation loss : 0.03\n",
            " Validation took : 0:00:00\n",
            "Accuracy : 0.06\n",
            "Validation loss : 0.04\n",
            " Validation took : 0:00:00\n",
            "Accuracy : 0.09\n",
            "Validation loss : 0.05\n",
            " Validation took : 0:00:00\n",
            "Accuracy : 0.12\n",
            "Validation loss : 0.09\n",
            " Validation took : 0:00:00\n",
            "Accuracy : 0.16\n",
            "Validation loss : 0.10\n",
            " Validation took : 0:00:01\n",
            "Accuracy : 0.19\n",
            "Validation loss : 0.13\n",
            " Validation took : 0:00:01\n",
            "Accuracy : 0.21\n",
            "Validation loss : 0.17\n",
            " Validation took : 0:00:01\n",
            "Accuracy : 0.24\n",
            "Validation loss : 0.19\n",
            " Validation took : 0:00:01\n",
            "Accuracy : 0.27\n",
            "Validation loss : 0.20\n",
            " Validation took : 0:00:01\n",
            "Accuracy : 0.31\n",
            "Validation loss : 0.21\n",
            " Validation took : 0:00:01\n",
            "Accuracy : 0.34\n",
            "Validation loss : 0.23\n",
            " Validation took : 0:00:01\n",
            "Accuracy : 0.37\n",
            "Validation loss : 0.25\n",
            " Validation took : 0:00:01\n",
            "Accuracy : 0.40\n",
            "Validation loss : 0.26\n",
            " Validation took : 0:00:01\n",
            "Accuracy : 0.44\n",
            "Validation loss : 0.28\n",
            " Validation took : 0:00:02\n",
            "Accuracy : 0.47\n",
            "Validation loss : 0.29\n",
            " Validation took : 0:00:02\n",
            "Accuracy : 0.50\n",
            "Validation loss : 0.30\n",
            " Validation took : 0:00:02\n",
            "Accuracy : 0.53\n",
            "Validation loss : 0.33\n",
            " Validation took : 0:00:02\n",
            "Accuracy : 0.56\n",
            "Validation loss : 0.36\n",
            " Validation took : 0:00:02\n",
            "Accuracy : 0.59\n",
            "Validation loss : 0.37\n",
            " Validation took : 0:00:02\n",
            "Accuracy : 0.62\n",
            "Validation loss : 0.40\n",
            " Validation took : 0:00:02\n",
            "Accuracy : 0.65\n",
            "Validation loss : 0.41\n",
            " Validation took : 0:00:02\n",
            "Accuracy : 0.68\n",
            "Validation loss : 0.45\n",
            " Validation took : 0:00:03\n",
            "Accuracy : 0.71\n",
            "Validation loss : 0.47\n",
            " Validation took : 0:00:03\n",
            "Accuracy : 0.74\n",
            "Validation loss : 0.50\n",
            " Validation took : 0:00:03\n",
            "Accuracy : 0.77\n",
            "Validation loss : 0.52\n",
            " Validation took : 0:00:03\n",
            "Accuracy : 0.80\n",
            "Validation loss : 0.54\n",
            " Validation took : 0:00:03\n",
            "Accuracy : 0.84\n",
            "Validation loss : 0.55\n",
            " Validation took : 0:00:03\n",
            "\n",
            "Training completed...\n",
            "Total training took 0:05:28 (h:mm:ss)\n"
          ]
        }
      ]
    },
    {
      "cell_type": "markdown",
      "source": [
        "Let’s examine the overview of the training procedure."
      ],
      "metadata": {
        "id": "EQ3u_Bi1CK8C"
      }
    },
    {
      "cell_type": "code",
      "source": [
        "# display floats with two decimal places\n",
        "# pd.set_option('precision', 2)\n",
        "\n",
        "# Define the format for floating-point numbers\n",
        "pd.set_option('display.float_format', lambda x: '%.2f' % x)\n",
        "\n",
        "# create dataframe from our training statistics\n",
        "df_stats = pd.DataFrame(data = training_stats)\n",
        "\n",
        "# use epoch as row index\n",
        "df_stats = df_stats.set_index('epoch')\n",
        "\n",
        "# display the table\n",
        "df_stats"
      ],
      "metadata": {
        "colab": {
          "base_uri": "https://localhost:8080/",
          "height": 455
        },
        "id": "kkxQn_-cyY7j",
        "outputId": "8acc26e4-346a-4aec-f05d-7ecef988eeab"
      },
      "execution_count": 25,
      "outputs": [
        {
          "output_type": "execute_result",
          "data": {
            "text/plain": [
              "       train loss  valid loss  valid accuracy training time validation time\n",
              "epoch                                                                      \n",
              "1            0.50        0.01            0.03       0:01:20         0:00:00\n",
              "1            0.50        0.03            0.06       0:01:20         0:00:00\n",
              "1            0.50        0.04            0.10       0:01:20         0:00:00\n",
              "1            0.50        0.06            0.12       0:01:20         0:00:00\n",
              "1            0.50        0.08            0.15       0:01:20         0:00:01\n",
              "...           ...         ...             ...           ...             ...\n",
              "4            0.13        0.47            0.71       0:01:19         0:00:03\n",
              "4            0.13        0.50            0.74       0:01:19         0:00:03\n",
              "4            0.13        0.52            0.77       0:01:19         0:00:03\n",
              "4            0.13        0.54            0.80       0:01:19         0:00:03\n",
              "4            0.13        0.55            0.84       0:01:19         0:00:03\n",
              "\n",
              "[108 rows x 5 columns]"
            ],
            "text/html": [
              "\n",
              "  <div id=\"df-146566a8-0f95-4747-ae12-4b3996625fea\" class=\"colab-df-container\">\n",
              "    <div>\n",
              "<style scoped>\n",
              "    .dataframe tbody tr th:only-of-type {\n",
              "        vertical-align: middle;\n",
              "    }\n",
              "\n",
              "    .dataframe tbody tr th {\n",
              "        vertical-align: top;\n",
              "    }\n",
              "\n",
              "    .dataframe thead th {\n",
              "        text-align: right;\n",
              "    }\n",
              "</style>\n",
              "<table border=\"1\" class=\"dataframe\">\n",
              "  <thead>\n",
              "    <tr style=\"text-align: right;\">\n",
              "      <th></th>\n",
              "      <th>train loss</th>\n",
              "      <th>valid loss</th>\n",
              "      <th>valid accuracy</th>\n",
              "      <th>training time</th>\n",
              "      <th>validation time</th>\n",
              "    </tr>\n",
              "    <tr>\n",
              "      <th>epoch</th>\n",
              "      <th></th>\n",
              "      <th></th>\n",
              "      <th></th>\n",
              "      <th></th>\n",
              "      <th></th>\n",
              "    </tr>\n",
              "  </thead>\n",
              "  <tbody>\n",
              "    <tr>\n",
              "      <th>1</th>\n",
              "      <td>0.50</td>\n",
              "      <td>0.01</td>\n",
              "      <td>0.03</td>\n",
              "      <td>0:01:20</td>\n",
              "      <td>0:00:00</td>\n",
              "    </tr>\n",
              "    <tr>\n",
              "      <th>1</th>\n",
              "      <td>0.50</td>\n",
              "      <td>0.03</td>\n",
              "      <td>0.06</td>\n",
              "      <td>0:01:20</td>\n",
              "      <td>0:00:00</td>\n",
              "    </tr>\n",
              "    <tr>\n",
              "      <th>1</th>\n",
              "      <td>0.50</td>\n",
              "      <td>0.04</td>\n",
              "      <td>0.10</td>\n",
              "      <td>0:01:20</td>\n",
              "      <td>0:00:00</td>\n",
              "    </tr>\n",
              "    <tr>\n",
              "      <th>1</th>\n",
              "      <td>0.50</td>\n",
              "      <td>0.06</td>\n",
              "      <td>0.12</td>\n",
              "      <td>0:01:20</td>\n",
              "      <td>0:00:00</td>\n",
              "    </tr>\n",
              "    <tr>\n",
              "      <th>1</th>\n",
              "      <td>0.50</td>\n",
              "      <td>0.08</td>\n",
              "      <td>0.15</td>\n",
              "      <td>0:01:20</td>\n",
              "      <td>0:00:01</td>\n",
              "    </tr>\n",
              "    <tr>\n",
              "      <th>...</th>\n",
              "      <td>...</td>\n",
              "      <td>...</td>\n",
              "      <td>...</td>\n",
              "      <td>...</td>\n",
              "      <td>...</td>\n",
              "    </tr>\n",
              "    <tr>\n",
              "      <th>4</th>\n",
              "      <td>0.13</td>\n",
              "      <td>0.47</td>\n",
              "      <td>0.71</td>\n",
              "      <td>0:01:19</td>\n",
              "      <td>0:00:03</td>\n",
              "    </tr>\n",
              "    <tr>\n",
              "      <th>4</th>\n",
              "      <td>0.13</td>\n",
              "      <td>0.50</td>\n",
              "      <td>0.74</td>\n",
              "      <td>0:01:19</td>\n",
              "      <td>0:00:03</td>\n",
              "    </tr>\n",
              "    <tr>\n",
              "      <th>4</th>\n",
              "      <td>0.13</td>\n",
              "      <td>0.52</td>\n",
              "      <td>0.77</td>\n",
              "      <td>0:01:19</td>\n",
              "      <td>0:00:03</td>\n",
              "    </tr>\n",
              "    <tr>\n",
              "      <th>4</th>\n",
              "      <td>0.13</td>\n",
              "      <td>0.54</td>\n",
              "      <td>0.80</td>\n",
              "      <td>0:01:19</td>\n",
              "      <td>0:00:03</td>\n",
              "    </tr>\n",
              "    <tr>\n",
              "      <th>4</th>\n",
              "      <td>0.13</td>\n",
              "      <td>0.55</td>\n",
              "      <td>0.84</td>\n",
              "      <td>0:01:19</td>\n",
              "      <td>0:00:03</td>\n",
              "    </tr>\n",
              "  </tbody>\n",
              "</table>\n",
              "<p>108 rows × 5 columns</p>\n",
              "</div>\n",
              "    <div class=\"colab-df-buttons\">\n",
              "\n",
              "  <div class=\"colab-df-container\">\n",
              "    <button class=\"colab-df-convert\" onclick=\"convertToInteractive('df-146566a8-0f95-4747-ae12-4b3996625fea')\"\n",
              "            title=\"Convert this dataframe to an interactive table.\"\n",
              "            style=\"display:none;\">\n",
              "\n",
              "  <svg xmlns=\"http://www.w3.org/2000/svg\" height=\"24px\" viewBox=\"0 -960 960 960\">\n",
              "    <path d=\"M120-120v-720h720v720H120Zm60-500h600v-160H180v160Zm220 220h160v-160H400v160Zm0 220h160v-160H400v160ZM180-400h160v-160H180v160Zm440 0h160v-160H620v160ZM180-180h160v-160H180v160Zm440 0h160v-160H620v160Z\"/>\n",
              "  </svg>\n",
              "    </button>\n",
              "\n",
              "  <style>\n",
              "    .colab-df-container {\n",
              "      display:flex;\n",
              "      gap: 12px;\n",
              "    }\n",
              "\n",
              "    .colab-df-convert {\n",
              "      background-color: #E8F0FE;\n",
              "      border: none;\n",
              "      border-radius: 50%;\n",
              "      cursor: pointer;\n",
              "      display: none;\n",
              "      fill: #1967D2;\n",
              "      height: 32px;\n",
              "      padding: 0 0 0 0;\n",
              "      width: 32px;\n",
              "    }\n",
              "\n",
              "    .colab-df-convert:hover {\n",
              "      background-color: #E2EBFA;\n",
              "      box-shadow: 0px 1px 2px rgba(60, 64, 67, 0.3), 0px 1px 3px 1px rgba(60, 64, 67, 0.15);\n",
              "      fill: #174EA6;\n",
              "    }\n",
              "\n",
              "    .colab-df-buttons div {\n",
              "      margin-bottom: 4px;\n",
              "    }\n",
              "\n",
              "    [theme=dark] .colab-df-convert {\n",
              "      background-color: #3B4455;\n",
              "      fill: #D2E3FC;\n",
              "    }\n",
              "\n",
              "    [theme=dark] .colab-df-convert:hover {\n",
              "      background-color: #434B5C;\n",
              "      box-shadow: 0px 1px 3px 1px rgba(0, 0, 0, 0.15);\n",
              "      filter: drop-shadow(0px 1px 2px rgba(0, 0, 0, 0.3));\n",
              "      fill: #FFFFFF;\n",
              "    }\n",
              "  </style>\n",
              "\n",
              "    <script>\n",
              "      const buttonEl =\n",
              "        document.querySelector('#df-146566a8-0f95-4747-ae12-4b3996625fea button.colab-df-convert');\n",
              "      buttonEl.style.display =\n",
              "        google.colab.kernel.accessAllowed ? 'block' : 'none';\n",
              "\n",
              "      async function convertToInteractive(key) {\n",
              "        const element = document.querySelector('#df-146566a8-0f95-4747-ae12-4b3996625fea');\n",
              "        const dataTable =\n",
              "          await google.colab.kernel.invokeFunction('convertToInteractive',\n",
              "                                                    [key], {});\n",
              "        if (!dataTable) return;\n",
              "\n",
              "        const docLinkHtml = 'Like what you see? Visit the ' +\n",
              "          '<a target=\"_blank\" href=https://colab.research.google.com/notebooks/data_table.ipynb>data table notebook</a>'\n",
              "          + ' to learn more about interactive tables.';\n",
              "        element.innerHTML = '';\n",
              "        dataTable['output_type'] = 'display_data';\n",
              "        await google.colab.output.renderOutput(dataTable, element);\n",
              "        const docLink = document.createElement('div');\n",
              "        docLink.innerHTML = docLinkHtml;\n",
              "        element.appendChild(docLink);\n",
              "      }\n",
              "    </script>\n",
              "  </div>\n",
              "\n",
              "\n",
              "<div id=\"df-73348bd9-ca7a-4d8e-ac2c-0cd2c4bf4f67\">\n",
              "  <button class=\"colab-df-quickchart\" onclick=\"quickchart('df-73348bd9-ca7a-4d8e-ac2c-0cd2c4bf4f67')\"\n",
              "            title=\"Suggest charts\"\n",
              "            style=\"display:none;\">\n",
              "\n",
              "<svg xmlns=\"http://www.w3.org/2000/svg\" height=\"24px\"viewBox=\"0 0 24 24\"\n",
              "     width=\"24px\">\n",
              "    <g>\n",
              "        <path d=\"M19 3H5c-1.1 0-2 .9-2 2v14c0 1.1.9 2 2 2h14c1.1 0 2-.9 2-2V5c0-1.1-.9-2-2-2zM9 17H7v-7h2v7zm4 0h-2V7h2v10zm4 0h-2v-4h2v4z\"/>\n",
              "    </g>\n",
              "</svg>\n",
              "  </button>\n",
              "\n",
              "<style>\n",
              "  .colab-df-quickchart {\n",
              "      --bg-color: #E8F0FE;\n",
              "      --fill-color: #1967D2;\n",
              "      --hover-bg-color: #E2EBFA;\n",
              "      --hover-fill-color: #174EA6;\n",
              "      --disabled-fill-color: #AAA;\n",
              "      --disabled-bg-color: #DDD;\n",
              "  }\n",
              "\n",
              "  [theme=dark] .colab-df-quickchart {\n",
              "      --bg-color: #3B4455;\n",
              "      --fill-color: #D2E3FC;\n",
              "      --hover-bg-color: #434B5C;\n",
              "      --hover-fill-color: #FFFFFF;\n",
              "      --disabled-bg-color: #3B4455;\n",
              "      --disabled-fill-color: #666;\n",
              "  }\n",
              "\n",
              "  .colab-df-quickchart {\n",
              "    background-color: var(--bg-color);\n",
              "    border: none;\n",
              "    border-radius: 50%;\n",
              "    cursor: pointer;\n",
              "    display: none;\n",
              "    fill: var(--fill-color);\n",
              "    height: 32px;\n",
              "    padding: 0;\n",
              "    width: 32px;\n",
              "  }\n",
              "\n",
              "  .colab-df-quickchart:hover {\n",
              "    background-color: var(--hover-bg-color);\n",
              "    box-shadow: 0 1px 2px rgba(60, 64, 67, 0.3), 0 1px 3px 1px rgba(60, 64, 67, 0.15);\n",
              "    fill: var(--button-hover-fill-color);\n",
              "  }\n",
              "\n",
              "  .colab-df-quickchart-complete:disabled,\n",
              "  .colab-df-quickchart-complete:disabled:hover {\n",
              "    background-color: var(--disabled-bg-color);\n",
              "    fill: var(--disabled-fill-color);\n",
              "    box-shadow: none;\n",
              "  }\n",
              "\n",
              "  .colab-df-spinner {\n",
              "    border: 2px solid var(--fill-color);\n",
              "    border-color: transparent;\n",
              "    border-bottom-color: var(--fill-color);\n",
              "    animation:\n",
              "      spin 1s steps(1) infinite;\n",
              "  }\n",
              "\n",
              "  @keyframes spin {\n",
              "    0% {\n",
              "      border-color: transparent;\n",
              "      border-bottom-color: var(--fill-color);\n",
              "      border-left-color: var(--fill-color);\n",
              "    }\n",
              "    20% {\n",
              "      border-color: transparent;\n",
              "      border-left-color: var(--fill-color);\n",
              "      border-top-color: var(--fill-color);\n",
              "    }\n",
              "    30% {\n",
              "      border-color: transparent;\n",
              "      border-left-color: var(--fill-color);\n",
              "      border-top-color: var(--fill-color);\n",
              "      border-right-color: var(--fill-color);\n",
              "    }\n",
              "    40% {\n",
              "      border-color: transparent;\n",
              "      border-right-color: var(--fill-color);\n",
              "      border-top-color: var(--fill-color);\n",
              "    }\n",
              "    60% {\n",
              "      border-color: transparent;\n",
              "      border-right-color: var(--fill-color);\n",
              "    }\n",
              "    80% {\n",
              "      border-color: transparent;\n",
              "      border-right-color: var(--fill-color);\n",
              "      border-bottom-color: var(--fill-color);\n",
              "    }\n",
              "    90% {\n",
              "      border-color: transparent;\n",
              "      border-bottom-color: var(--fill-color);\n",
              "    }\n",
              "  }\n",
              "</style>\n",
              "\n",
              "  <script>\n",
              "    async function quickchart(key) {\n",
              "      const quickchartButtonEl =\n",
              "        document.querySelector('#' + key + ' button');\n",
              "      quickchartButtonEl.disabled = true;  // To prevent multiple clicks.\n",
              "      quickchartButtonEl.classList.add('colab-df-spinner');\n",
              "      try {\n",
              "        const charts = await google.colab.kernel.invokeFunction(\n",
              "            'suggestCharts', [key], {});\n",
              "      } catch (error) {\n",
              "        console.error('Error during call to suggestCharts:', error);\n",
              "      }\n",
              "      quickchartButtonEl.classList.remove('colab-df-spinner');\n",
              "      quickchartButtonEl.classList.add('colab-df-quickchart-complete');\n",
              "    }\n",
              "    (() => {\n",
              "      let quickchartButtonEl =\n",
              "        document.querySelector('#df-73348bd9-ca7a-4d8e-ac2c-0cd2c4bf4f67 button');\n",
              "      quickchartButtonEl.style.display =\n",
              "        google.colab.kernel.accessAllowed ? 'block' : 'none';\n",
              "    })();\n",
              "  </script>\n",
              "</div>\n",
              "\n",
              "  <div id=\"id_9a0e2845-5e32-466b-8755-33de98fca732\">\n",
              "    <style>\n",
              "      .colab-df-generate {\n",
              "        background-color: #E8F0FE;\n",
              "        border: none;\n",
              "        border-radius: 50%;\n",
              "        cursor: pointer;\n",
              "        display: none;\n",
              "        fill: #1967D2;\n",
              "        height: 32px;\n",
              "        padding: 0 0 0 0;\n",
              "        width: 32px;\n",
              "      }\n",
              "\n",
              "      .colab-df-generate:hover {\n",
              "        background-color: #E2EBFA;\n",
              "        box-shadow: 0px 1px 2px rgba(60, 64, 67, 0.3), 0px 1px 3px 1px rgba(60, 64, 67, 0.15);\n",
              "        fill: #174EA6;\n",
              "      }\n",
              "\n",
              "      [theme=dark] .colab-df-generate {\n",
              "        background-color: #3B4455;\n",
              "        fill: #D2E3FC;\n",
              "      }\n",
              "\n",
              "      [theme=dark] .colab-df-generate:hover {\n",
              "        background-color: #434B5C;\n",
              "        box-shadow: 0px 1px 3px 1px rgba(0, 0, 0, 0.15);\n",
              "        filter: drop-shadow(0px 1px 2px rgba(0, 0, 0, 0.3));\n",
              "        fill: #FFFFFF;\n",
              "      }\n",
              "    </style>\n",
              "    <button class=\"colab-df-generate\" onclick=\"generateWithVariable('df_stats')\"\n",
              "            title=\"Generate code using this dataframe.\"\n",
              "            style=\"display:none;\">\n",
              "\n",
              "  <svg xmlns=\"http://www.w3.org/2000/svg\" height=\"24px\"viewBox=\"0 0 24 24\"\n",
              "       width=\"24px\">\n",
              "    <path d=\"M7,19H8.4L18.45,9,17,7.55,7,17.6ZM5,21V16.75L18.45,3.32a2,2,0,0,1,2.83,0l1.4,1.43a1.91,1.91,0,0,1,.58,1.4,1.91,1.91,0,0,1-.58,1.4L9.25,21ZM18.45,9,17,7.55Zm-12,3A5.31,5.31,0,0,0,4.9,8.1,5.31,5.31,0,0,0,1,6.5,5.31,5.31,0,0,0,4.9,4.9,5.31,5.31,0,0,0,6.5,1,5.31,5.31,0,0,0,8.1,4.9,5.31,5.31,0,0,0,12,6.5,5.46,5.46,0,0,0,6.5,12Z\"/>\n",
              "  </svg>\n",
              "    </button>\n",
              "    <script>\n",
              "      (() => {\n",
              "      const buttonEl =\n",
              "        document.querySelector('#id_9a0e2845-5e32-466b-8755-33de98fca732 button.colab-df-generate');\n",
              "      buttonEl.style.display =\n",
              "        google.colab.kernel.accessAllowed ? 'block' : 'none';\n",
              "\n",
              "      buttonEl.onclick = () => {\n",
              "        google.colab.notebook.generateWithVariable('df_stats');\n",
              "      }\n",
              "      })();\n",
              "    </script>\n",
              "  </div>\n",
              "\n",
              "    </div>\n",
              "  </div>\n"
            ],
            "application/vnd.google.colaboratory.intrinsic+json": {
              "type": "dataframe",
              "variable_name": "df_stats",
              "summary": "{\n  \"name\": \"df_stats\",\n  \"rows\": 108,\n  \"fields\": [\n    {\n      \"column\": \"epoch\",\n      \"properties\": {\n        \"dtype\": \"number\",\n        \"std\": 1,\n        \"min\": 1,\n        \"max\": 4,\n        \"num_unique_values\": 4,\n        \"samples\": [\n          2,\n          4,\n          1\n        ],\n        \"semantic_type\": \"\",\n        \"description\": \"\"\n      }\n    },\n    {\n      \"column\": \"train loss\",\n      \"properties\": {\n        \"dtype\": \"number\",\n        \"std\": 0.14025979293885235,\n        \"min\": 0.13272269365389316,\n        \"max\": 0.50022854250991,\n        \"num_unique_values\": 4,\n        \"samples\": [\n          0.30967471822787124,\n          0.13272269365389316,\n          0.50022854250991\n        ],\n        \"semantic_type\": \"\",\n        \"description\": \"\"\n      }\n    },\n    {\n      \"column\": \"valid loss\",\n      \"properties\": {\n        \"dtype\": \"number\",\n        \"std\": 0.13667816751095055,\n        \"min\": 0.014965286961308232,\n        \"max\": 0.5517059923322113,\n        \"num_unique_values\": 108,\n        \"samples\": [\n          0.4422008842229843,\n          0.15949718378208302,\n          0.07652892337905036\n        ],\n        \"semantic_type\": \"\",\n        \"description\": \"\"\n      }\n    },\n    {\n      \"column\": \"valid accuracy\",\n      \"properties\": {\n        \"dtype\": \"number\",\n        \"std\": 0.24353734573384023,\n        \"min\": 0.027777777777777776,\n        \"max\": 0.8429783950617284,\n        \"num_unique_values\": 90,\n        \"samples\": [\n          0.5011574074074074,\n          0.7094907407407407,\n          0.24421296296296297\n        ],\n        \"semantic_type\": \"\",\n        \"description\": \"\"\n      }\n    },\n    {\n      \"column\": \"training time\",\n      \"properties\": {\n        \"dtype\": \"object\",\n        \"num_unique_values\": 2,\n        \"samples\": [\n          \"0:01:19\",\n          \"0:01:20\"\n        ],\n        \"semantic_type\": \"\",\n        \"description\": \"\"\n      }\n    },\n    {\n      \"column\": \"validation time\",\n      \"properties\": {\n        \"dtype\": \"object\",\n        \"num_unique_values\": 4,\n        \"samples\": [\n          \"0:00:01\",\n          \"0:00:03\"\n        ],\n        \"semantic_type\": \"\",\n        \"description\": \"\"\n      }\n    }\n  ]\n}"
            }
          },
          "metadata": {},
          "execution_count": 25
        }
      ]
    },
    {
      "cell_type": "code",
      "source": [
        "# use plot styling from seaborn\n",
        "sns.set(style='darkgrid')\n",
        "\n",
        "# increase plot size and font size\n",
        "sns.set(font_scale=1.5)\n",
        "plt.rcParams[\"figure.figsize\"] = (12, 6)\n",
        "\n",
        "# plot the learning curve\n",
        "plt.plot(df_stats['train loss'], 'b-o', label=\"Training\")\n",
        "plt.plot(df_stats['valid loss'], 'g-o', label=\"Validation\")\n",
        "\n",
        "# label the plot\n",
        "plt.title(\"Training and Validation Loss\")\n",
        "plt.xlabel('Epoch')\n",
        "plt.ylabel('Loss')\n",
        "plt.legend()\n",
        "plt.xticks([1, 2, 3, 4])\n",
        "plt.show()"
      ],
      "metadata": {
        "colab": {
          "base_uri": "https://localhost:8080/",
          "height": 592
        },
        "id": "wo0wA7TWyY5M",
        "outputId": "3ca61f98-53cc-4ca3-c15a-6aee363cbb97"
      },
      "execution_count": 26,
      "outputs": [
        {
          "output_type": "display_data",
          "data": {
            "text/plain": [
              "<Figure size 1200x600 with 1 Axes>"
            ],
            "image/png": "[encoded data removed]"
          },
          "metadata": {}
        }
      ]
    },
    {
      "cell_type": "markdown",
      "source": [
        "**6 Performance on Test Set**"
      ],
      "metadata": {
        "id": "rBeo4ccKCw3-"
      }
    },
    {
      "cell_type": "markdown",
      "source": [
        "Now, we will load the holdout dataset and prepare inputs similar to what we did for the training\n",
        "set. Then, we will assess predictions using the Matthews correlation coefficient, a metric commonly\n",
        "used in the NLP community to evaluate performance on CoLA. This metric assigns a score between\n",
        "+1 (best) and -1 (worst), allowing us to compare our performance with state-of-the-art models for\n",
        "this task."
      ],
      "metadata": {
        "id": "sEVft92sCz8N"
      }
    },
    {
      "cell_type": "markdown",
      "source": [
        "6.1 Data Preparation"
      ],
      "metadata": {
        "id": "o-Ump1JzC2lM"
      }
    },
    {
      "cell_type": "markdown",
      "source": [
        "We will need to perform the same steps on the test dataset as we did for the training data to\n",
        "prepare it."
      ],
      "metadata": {
        "id": "liYKoEM_C4cM"
      }
    },
    {
      "cell_type": "code",
      "source": [
        "# load the dataset into pandas dataframe\n",
        "df = pd.read_csv('/content/cola_public/tokenized/in_domain_dev.tsv',\n",
        "delimiter='\\t',\n",
        "header = None,\n",
        "names = ['sentence_source', 'label', 'label_notes', 'sentence']\n",
        ")\n",
        "# report the number of sentences\n",
        "print('Number of sentences {:,}'.format(df.shape[0]))\n",
        "# get the set of sentences and their respective labels\n",
        "sentences = df.sentence.values\n",
        "labels = df.label.values"
      ],
      "metadata": {
        "colab": {
          "base_uri": "https://localhost:8080/"
        },
        "id": "pCeYpjBtyY0w",
        "outputId": "bfd80298-0b48-410a-b427-96b48042ec87"
      },
      "execution_count": 27,
      "outputs": [
        {
          "output_type": "stream",
          "name": "stdout",
          "text": [
            "Number of sentences 527\n"
          ]
        }
      ]
    },
    {
      "cell_type": "code",
      "source": [
        "# tokenize all sentences and map tokens to their token IDs\n",
        "input_ids = []\n",
        "attention_masks = []\n",
        "\n",
        "# for every sentence\n",
        "for sentence in sentences:\n",
        "  # for every sentence\n",
        "  encoded_dict = tokenizer.encode_plus(\n",
        "      sentence, # sentence to encode\n",
        "      add_special_tokens=True,\n",
        "      max_length = 64,\n",
        "      pad_to_max_length = True,\n",
        "      return_attention_mask = True,\n",
        "      return_tensors = 'pt'\n",
        "  )\n",
        "\n",
        "  # add encoded sentence to the list\n",
        "  input_ids.append(encoded_dict['input_ids'])\n",
        "\n",
        "  # and its attention mask\n",
        "  attention_masks.append(encoded_dict['attention_mask'])\n",
        "\n",
        "# convert the lists into tensors\n",
        "input_ids = torch.cat(input_ids, dim=0)\n",
        "attention_masks = torch.cat(attention_masks, dim=0)\n",
        "labels = torch.tensor(labels)"
      ],
      "metadata": {
        "id": "0J2NVntbyYyc"
      },
      "execution_count": 28,
      "outputs": []
    },
    {
      "cell_type": "code",
      "source": [
        "# set the batch size\n",
        "batch_size = 32\n",
        "\n",
        "# create the DataLoader\n",
        "prediction_data = TensorDataset(input_ids, attention_masks, labels)\n",
        "prediction_sampler = SequentialSampler(prediction_data)\n",
        "prediction_dataloader = DataLoader(\n",
        "prediction_data,\n",
        "sampler = prediction_sampler,\n",
        "batch_size = batch_size\n",
        ")"
      ],
      "metadata": {
        "id": "PCBbBqMgyYwH"
      },
      "execution_count": 29,
      "outputs": []
    },
    {
      "cell_type": "markdown",
      "source": [
        "6.2 Evaluate on Test Set"
      ],
      "metadata": {
        "id": "Tk4jcGpiEBsw"
      }
    },
    {
      "cell_type": "markdown",
      "source": [
        "Now that the test set is ready, we can utilize our fine-tuned model to make predictions on this set."
      ],
      "metadata": {
        "id": "nVgDmuLuEEnJ"
      }
    },
    {
      "cell_type": "code",
      "source": [
        "# prediction on test set\n",
        "print('Predicting labels for {:,} test sentences...'.format(len(input_ids)))\n",
        "\n",
        "# put the model in evaluation mode\n",
        "model.eval()\n",
        "\n",
        "# tracking variables\n",
        "predictions, true_labels = [], []\n",
        "\n",
        "# predict\n",
        "for batch in prediction_dataloader:\n",
        "\n",
        "  # add batch to GPU\n",
        "  batch = tuple(t.to(device_name) for t in batch)\n",
        "\n",
        "  # unpack inputs from our dataloader\n",
        "  batch_input_ids, batch_input_mask, batch_labels = batch\n",
        "\n",
        "  # telling model not to compute or store gradients\n",
        "  # for saving memory and speeding up prediction\n",
        "  with torch.no_grad():\n",
        "    # forward pass, calculate logit predictions\n",
        "    result = model(\n",
        "    batch_input_ids,\n",
        "    token_type_ids = None,\n",
        "    attention_mask = batch_input_mask,\n",
        "    return_dict = True\n",
        "    )\n",
        "\n",
        "  logits = result.logits\n",
        "\n",
        "# move logits and labels to CPU\n",
        "logits = logits.detach().cpu().numpy()\n",
        "label_ids = batch_labels.to('cpu').numpy()\n",
        "\n",
        "# store predictions and true labels\n",
        "predictions.append(logits)\n",
        "true_labels.append(label_ids)\n",
        "\n",
        "print('Done.')\n",
        "\n",
        "\n",
        "\n",
        "\n"
      ],
      "metadata": {
        "colab": {
          "base_uri": "https://localhost:8080/"
        },
        "id": "nzBgnUO8yYtu",
        "outputId": "ca69e618-77a9-45e0-a9b9-4daeb7451c40"
      },
      "execution_count": 30,
      "outputs": [
        {
          "output_type": "stream",
          "name": "stdout",
          "text": [
            "Predicting labels for 527 test sentences...\n",
            "Done.\n"
          ]
        }
      ]
    },
    {
      "cell_type": "code",
      "source": [
        "print('Positive samples: %d of %d (%.2f%%)' % (\n",
        "df.label.sum(),\n",
        "len(df.label),\n",
        "(df.label.sum() / len(df.label)) * 100.0))"
      ],
      "metadata": {
        "colab": {
          "base_uri": "https://localhost:8080/"
        },
        "id": "NvcZStPmswXI",
        "outputId": "866b9bc2-95d7-45fd-e5ee-452837fe558a"
      },
      "execution_count": 31,
      "outputs": [
        {
          "output_type": "stream",
          "name": "stdout",
          "text": [
            "Positive samples: 365 of 527 (69.26%)\n"
          ]
        }
      ]
    },
    {
      "cell_type": "code",
      "source": [
        "matthews_set = []\n",
        "\n",
        "# evaluate each test batch using Matthew's correlation coefficient\n",
        "print(\"Calculating Matthew's correlation coefficient for each batch...\")\n",
        "\n",
        "# for each input batch...\n",
        "for batch in range(len(true_labels)):\n",
        "  pred_labels = np.argmax(predictions[batch], axis = 1).flatten()\n",
        "\n",
        "  # calculate and store coefficient for this batch\n",
        "  matthews = matthews_corrcoef(true_labels[batch], pred_labels)\n",
        "  matthews_set.append(matthews)"
      ],
      "metadata": {
        "colab": {
          "base_uri": "https://localhost:8080/"
        },
        "id": "a2zb1tHDEzNp",
        "outputId": "1086c0f3-76e2-4045-9775-092d1a2d7303"
      },
      "execution_count": 33,
      "outputs": [
        {
          "output_type": "stream",
          "name": "stdout",
          "text": [
            "Calculating Matthew's correlation coefficient for each batch...\n"
          ]
        }
      ]
    },
    {
      "cell_type": "markdown",
      "source": [
        "The overall score will be calculated using the entire test set. However, we will examine scores for\n",
        "individual batches to understand the variability in the metric across batches. Each batch contains\n",
        "32 sentences, except for the last batch, which has only 4 test sentences."
      ],
      "metadata": {
        "id": "RFkq0qKLFB2N"
      }
    },
    {
      "cell_type": "code",
      "source": [
        "# create bar plot showing the Matthew's correlation coefficient (MCC) score for each batch of test samples\n",
        "ax = sns.barplot(x = list(range(len(matthews_set))),y = matthews_set,ci = None)\n",
        "plt.title(\"Matthew's correlation coefficient (MCC) score per batch\")\n",
        "plt.ylabel('MCC score (-1 to +1)')\n",
        "plt.xlabel('Batch Number')\n",
        "\n",
        "plt.show()"
      ],
      "metadata": {
        "colab": {
          "base_uri": "https://localhost:8080/",
          "height": 592
        },
        "id": "8x44aGl8EzLa",
        "outputId": "cc8c9902-5544-470a-dae5-ce521c228a9d"
      },
      "execution_count": 35,
      "outputs": [
        {
          "output_type": "display_data",
          "data": {
            "text/plain": [
              "<Figure size 1200x600 with 1 Axes>"
            ],
            "image/png": "[encoded data removed]"
          },
          "metadata": {}
        }
      ]
    },
    {
      "cell_type": "code",
      "source": [
        "# combine the results across all batches\n",
        "flat_predictions = np.concatenate(predictions, axis=0)\n",
        "\n",
        "# for each sample, pick the label (0 or 1) with the higher score\n",
        "flat_predictions = np.argmax(flat_predictions, axis=1).flatten()\n",
        "\n",
        "# combine the correct labels for each batch into single list\n",
        "flat_true_labels = np.concatenate(true_labels, axis=0)\n",
        "\n",
        "# calculate total MCC\n",
        "mcc = matthews_corrcoef(flat_true_labels, flat_predictions)\n",
        "print('Total MCC : %.3f' % mcc)"
      ],
      "metadata": {
        "colab": {
          "base_uri": "https://localhost:8080/"
        },
        "id": "MeKQ2I4OEzJU",
        "outputId": "156155a5-8da5-4f6c-cb35-88003a0d3402"
      },
      "execution_count": 37,
      "outputs": [
        {
          "output_type": "stream",
          "name": "stdout",
          "text": [
            "Total MCC : 0.700\n"
          ]
        }
      ]
    },
    {
      "cell_type": "markdown",
      "source": [
        "**7 Conclusion**"
      ],
      "metadata": {
        "id": "43tCBbsfFhQo"
      }
    },
    {
      "cell_type": "markdown",
      "source": [
        "This notebook illustrates how a pre-trained BERT model, when utilized through the PyTorch\n",
        "interface, enables the minimal and efficient creation of a high quality model with minimal training\n",
        "time, regardless of the particular NLP task at hand."
      ],
      "metadata": {
        "id": "bVEye0jNFlsn"
      }
    },
    {
      "cell_type": "code",
      "source": [],
      "metadata": {
        "id": "9GbU0mI6EzG6"
      },
      "execution_count": null,
      "outputs": []
    },
    {
      "cell_type": "code",
      "source": [],
      "metadata": {
        "id": "SWNaEwAiEzEk"
      },
      "execution_count": null,
      "outputs": []
    },
    {
      "cell_type": "code",
      "source": [],
      "metadata": {
        "id": "_oamK7oXEzCR"
      },
      "execution_count": null,
      "outputs": []
    },
    {
      "cell_type": "code",
      "source": [],
      "metadata": {
        "id": "t5f9g4-zEzAJ"
      },
      "execution_count": null,
      "outputs": []
    },
    {
      "cell_type": "code",
      "source": [],
      "metadata": {
        "id": "67Dz8XfZEy9T"
      },
      "execution_count": null,
      "outputs": []
    },
    {
      "cell_type": "code",
      "source": [],
      "metadata": {
        "id": "zL_W93hgEy49"
      },
      "execution_count": null,
      "outputs": []
    }
  ]
}